{
  "cells": [
    {
      "cell_type": "markdown",
      "metadata": {
        "id": "9vl1DpWcDinM"
      },
      "source": [
        "## Import libraries"
      ]
    },
    {
      "cell_type": "code",
      "execution_count": null,
      "metadata": {
        "id": "0YhtCG4MDinN"
      },
      "outputs": [],
      "source": [
        "import numpy as np\n",
        "import pandas as pd\n",
        "import tensorflow as tf\n",
        "import re\n",
        "import html\n",
        "import string\n",
        "from tensorflow.keras.preprocessing.text import Tokenizer\n",
        "from tensorflow.keras.preprocessing.sequence import pad_sequences\n",
        "from sklearn.model_selection import train_test_split\n",
        "from tensorflow.keras.models import Sequential\n",
        "from tensorflow.keras.layers import Embedding, LSTM, Dense, Dropout, Masking, Bidirectional\n",
        "from keras.models import load_model\n",
        "import pickle"
      ]
    },
    {
      "cell_type": "markdown",
      "metadata": {
        "id": "j10KlK0iDinO"
      },
      "source": [
        "## Load and Process the data"
      ]
    },
    {
      "cell_type": "code",
      "execution_count": null,
      "metadata": {
        "id": "jNtIPzrRDinO"
      },
      "outputs": [],
      "source": [
        "medium_df = pd.read_csv('medium_data.csv')\n",
        "news_df = pd.read_csv('ArticlesMarch2018.csv')\n",
        "large_df = pd.read_csv('train.csv')"
      ]
    },
    {
      "cell_type": "code",
      "execution_count": null,
      "metadata": {
        "colab": {
          "base_uri": "https://localhost:8080/"
        },
        "id": "ds90KgLtDinO",
        "outputId": "ee2e3e98-5add-4719-b4aa-a83b6e9f27c1"
      },
      "outputs": [
        {
          "name": "stdout",
          "output_type": "stream",
          "text": [
            "120000\n",
            "20000\n"
          ]
        }
      ],
      "source": [
        "print(len(large_df))\n",
        "large_df = large_df.head(20000)\n",
        "print(len(large_df))"
      ]
    },
    {
      "cell_type": "code",
      "execution_count": null,
      "metadata": {
        "colab": {
          "base_uri": "https://localhost:8080/"
        },
        "id": "oRZ6N6V4DinO",
        "outputId": "d30ac442-1229-4ec1-9482-26ae72fd43ce"
      },
      "outputs": [
        {
          "name": "stdout",
          "output_type": "stream",
          "text": [
            "(6508, 10)\n",
            "(1385, 15)\n"
          ]
        }
      ],
      "source": [
        "print(medium_df.shape)\n",
        "print(news_df.shape)"
      ]
    },
    {
      "cell_type": "code",
      "execution_count": null,
      "metadata": {
        "id": "8YZUvt1QDinO"
      },
      "outputs": [],
      "source": [
        "# Creating New DataFrame\n",
        "text = pd.concat([medium_df['title'], news_df['headline'],large_df['Title']], ignore_index=True)\n",
        "data = pd.DataFrame({\n",
        "    'text' : text\n",
        "})"
      ]
    },
    {
      "cell_type": "code",
      "execution_count": null,
      "metadata": {
        "colab": {
          "base_uri": "https://localhost:8080/"
        },
        "id": "YFFVyFJzDinP",
        "outputId": "1ba85706-b95a-4964-caae-1837da25981b"
      },
      "outputs": [
        {
          "name": "stdout",
          "output_type": "stream",
          "text": [
            "(27893, 1)\n",
            "(26770, 1)\n"
          ]
        }
      ],
      "source": [
        "print(data.shape)\n",
        "data.drop_duplicates(inplace=True)\n",
        "print(data.shape)"
      ]
    },
    {
      "cell_type": "markdown",
      "metadata": {
        "id": "SOEN4MKkDinP"
      },
      "source": [
        "## Data cleaning"
      ]
    },
    {
      "cell_type": "code",
      "execution_count": null,
      "metadata": {
        "colab": {
          "base_uri": "https://localhost:8080/"
        },
        "id": "7qhzHwkLDinP",
        "outputId": "ccc8e688-0bdb-496a-e27a-25b243785b63"
      },
      "outputs": [
        {
          "data": {
            "text/plain": [
              "26770"
            ]
          },
          "execution_count": 7,
          "metadata": {},
          "output_type": "execute_result"
        }
      ],
      "source": [
        "data['text'] = data['text'].apply(lambda x: x.replace(u'\\xa0',u' ')) # remove unwanted HTML character (non-breaking space)\n",
        "data['text'] = data['text'].apply(lambda x: x.replace('\\u200a', ' ')) # remove narrow space\n",
        "\n",
        "def clean_text(text):\n",
        "    # Unescape HTML escape characters\n",
        "    cleaned_text = html.unescape(text)\n",
        "\n",
        "    # Remove HTML tags\n",
        "    cleaned_text = re.sub(r'<[^>]+>', '', cleaned_text)\n",
        "\n",
        "    # Remove punctuation\n",
        "    cleaned_text = re.sub(f'[{re.escape(string.punctuation)}]', '', cleaned_text)\n",
        "\n",
        "    return cleaned_text\n",
        "\n",
        "data['text'] = data['text'].apply(clean_text)\n",
        "len(data)"
      ]
    },
    {
      "cell_type": "markdown",
      "metadata": {
        "id": "09F7zhTUDinP"
      },
      "source": [
        "## Tokenization"
      ]
    },
    {
      "cell_type": "code",
      "execution_count": null,
      "metadata": {
        "colab": {
          "base_uri": "https://localhost:8080/"
        },
        "id": "b71YsdNUDinP",
        "outputId": "69dae088-b7e4-4b8f-a7a2-2cf0761ce7d6"
      },
      "outputs": [
        {
          "name": "stdout",
          "output_type": "stream",
          "text": [
            "Total number of words:  22101\n"
          ]
        }
      ],
      "source": [
        "tokenizer = Tokenizer(oov_token='<oov>', lower=True)\n",
        "tokenizer.fit_on_texts(data['text'])\n",
        "total_words = len(tokenizer.word_index) + 1\n",
        "print('Total number of words: ', total_words)"
      ]
    },
    {
      "cell_type": "code",
      "execution_count": null,
      "metadata": {
        "id": "oZ1xwMWxDinP"
      },
      "outputs": [],
      "source": [
        "# Tokenize all text at once\n",
        "tokenized_texts = tokenizer.texts_to_sequences(data['text'])\n",
        "# Generate n-gram sequences\n",
        "input_sequences = [\n",
        "    token_list[:i+1]\n",
        "    for token_list in tokenized_texts  # Loop over each tokenized line\n",
        "    for i in range(1, len(token_list)) # Generate n-grams for each line\n",
        "]"
      ]
    },
    {
      "cell_type": "code",
      "execution_count": null,
      "metadata": {
        "id": "HshosVGADinP"
      },
      "outputs": [],
      "source": [
        "max_sequence_len = max(len(x) for x in input_sequences)\n",
        "input_sequences = np.array(pad_sequences(input_sequences, maxlen=max_sequence_len, padding='pre', value = -1))"
      ]
    },
    {
      "cell_type": "markdown",
      "metadata": {
        "id": "rM70BkHUDinP"
      },
      "source": [
        "## Prepare Train and Test data"
      ]
    },
    {
      "cell_type": "code",
      "execution_count": null,
      "metadata": {
        "id": "JsxqAKrwDinP"
      },
      "outputs": [],
      "source": [
        "# Create features (xs) and labels\n",
        "xs, labels = input_sequences[:, :-1], input_sequences[:, -1]\n",
        "\n",
        "# Split the dataset into training and test sets (80% train, 20% test)\n",
        "x_train, x_test, y_train, y_test = train_test_split(xs, labels, test_size=0.2, random_state=42)"
      ]
    },
    {
      "cell_type": "markdown",
      "metadata": {
        "id": "-DUpozT7DinQ"
      },
      "source": [
        "## Creating the model"
      ]
    },
    {
      "cell_type": "code",
      "execution_count": null,
      "metadata": {
        "colab": {
          "base_uri": "https://localhost:8080/",
          "height": 385
        },
        "id": "YW2_k-YgDinQ",
        "outputId": "4a9f3833-4a9a-4f88-b896-56b5360cce5d"
      },
      "outputs": [
        {
          "data": {
            "text/html": [
              "<pre style=\"white-space:pre;overflow-x:auto;line-height:normal;font-family:Menlo,'DejaVu Sans Mono',consolas,'Courier New',monospace\"><span style=\"font-weight: bold\">Model: \"sequential_1\"</span>\n",
              "</pre>\n"
            ],
            "text/plain": [
              "\u001b[1mModel: \"sequential_1\"\u001b[0m\n"
            ]
          },
          "metadata": {},
          "output_type": "display_data"
        },
        {
          "data": {
            "text/html": [
              "<pre style=\"white-space:pre;overflow-x:auto;line-height:normal;font-family:Menlo,'DejaVu Sans Mono',consolas,'Courier New',monospace\">┏━━━━━━━━━━━━━━━━━━━━━━━━━━━━━━━━━━━━━━┳━━━━━━━━━━━━━━━━━━━━━━━━━━━━━┳━━━━━━━━━━━━━━━━━┓\n",
              "┃<span style=\"font-weight: bold\"> Layer (type)                         </span>┃<span style=\"font-weight: bold\"> Output Shape                </span>┃<span style=\"font-weight: bold\">         Param # </span>┃\n",
              "┡━━━━━━━━━━━━━━━━━━━━━━━━━━━━━━━━━━━━━━╇━━━━━━━━━━━━━━━━━━━━━━━━━━━━━╇━━━━━━━━━━━━━━━━━┩\n",
              "│ embedding_1 (<span style=\"color: #0087ff; text-decoration-color: #0087ff\">Embedding</span>)              │ (<span style=\"color: #00d7ff; text-decoration-color: #00d7ff\">None</span>, <span style=\"color: #00af00; text-decoration-color: #00af00\">22</span>, <span style=\"color: #00af00; text-decoration-color: #00af00\">200</span>)             │       <span style=\"color: #00af00; text-decoration-color: #00af00\">4,420,200</span> │\n",
              "├──────────────────────────────────────┼─────────────────────────────┼─────────────────┤\n",
              "│ masking_1 (<span style=\"color: #0087ff; text-decoration-color: #0087ff\">Masking</span>)                  │ (<span style=\"color: #00d7ff; text-decoration-color: #00d7ff\">None</span>, <span style=\"color: #00af00; text-decoration-color: #00af00\">22</span>, <span style=\"color: #00af00; text-decoration-color: #00af00\">200</span>)             │               <span style=\"color: #00af00; text-decoration-color: #00af00\">0</span> │\n",
              "├──────────────────────────────────────┼─────────────────────────────┼─────────────────┤\n",
              "│ bidirectional_2 (<span style=\"color: #0087ff; text-decoration-color: #0087ff\">Bidirectional</span>)      │ (<span style=\"color: #00d7ff; text-decoration-color: #00d7ff\">None</span>, <span style=\"color: #00af00; text-decoration-color: #00af00\">22</span>, <span style=\"color: #00af00; text-decoration-color: #00af00\">400</span>)             │         <span style=\"color: #00af00; text-decoration-color: #00af00\">641,600</span> │\n",
              "├──────────────────────────────────────┼─────────────────────────────┼─────────────────┤\n",
              "│ dropout_2 (<span style=\"color: #0087ff; text-decoration-color: #0087ff\">Dropout</span>)                  │ (<span style=\"color: #00d7ff; text-decoration-color: #00d7ff\">None</span>, <span style=\"color: #00af00; text-decoration-color: #00af00\">22</span>, <span style=\"color: #00af00; text-decoration-color: #00af00\">400</span>)             │               <span style=\"color: #00af00; text-decoration-color: #00af00\">0</span> │\n",
              "├──────────────────────────────────────┼─────────────────────────────┼─────────────────┤\n",
              "│ bidirectional_3 (<span style=\"color: #0087ff; text-decoration-color: #0087ff\">Bidirectional</span>)      │ (<span style=\"color: #00d7ff; text-decoration-color: #00d7ff\">None</span>, <span style=\"color: #00af00; text-decoration-color: #00af00\">300</span>)                 │         <span style=\"color: #00af00; text-decoration-color: #00af00\">661,200</span> │\n",
              "├──────────────────────────────────────┼─────────────────────────────┼─────────────────┤\n",
              "│ dense_2 (<span style=\"color: #0087ff; text-decoration-color: #0087ff\">Dense</span>)                      │ (<span style=\"color: #00d7ff; text-decoration-color: #00d7ff\">None</span>, <span style=\"color: #00af00; text-decoration-color: #00af00\">256</span>)                 │          <span style=\"color: #00af00; text-decoration-color: #00af00\">77,056</span> │\n",
              "├──────────────────────────────────────┼─────────────────────────────┼─────────────────┤\n",
              "│ dropout_3 (<span style=\"color: #0087ff; text-decoration-color: #0087ff\">Dropout</span>)                  │ (<span style=\"color: #00d7ff; text-decoration-color: #00d7ff\">None</span>, <span style=\"color: #00af00; text-decoration-color: #00af00\">256</span>)                 │               <span style=\"color: #00af00; text-decoration-color: #00af00\">0</span> │\n",
              "├──────────────────────────────────────┼─────────────────────────────┼─────────────────┤\n",
              "│ dense_3 (<span style=\"color: #0087ff; text-decoration-color: #0087ff\">Dense</span>)                      │ (<span style=\"color: #00d7ff; text-decoration-color: #00d7ff\">None</span>, <span style=\"color: #00af00; text-decoration-color: #00af00\">22101</span>)               │       <span style=\"color: #00af00; text-decoration-color: #00af00\">5,679,957</span> │\n",
              "└──────────────────────────────────────┴─────────────────────────────┴─────────────────┘\n",
              "</pre>\n"
            ],
            "text/plain": [
              "┏━━━━━━━━━━━━━━━━━━━━━━━━━━━━━━━━━━━━━━┳━━━━━━━━━━━━━━━━━━━━━━━━━━━━━┳━━━━━━━━━━━━━━━━━┓\n",
              "┃\u001b[1m \u001b[0m\u001b[1mLayer (type)                        \u001b[0m\u001b[1m \u001b[0m┃\u001b[1m \u001b[0m\u001b[1mOutput Shape               \u001b[0m\u001b[1m \u001b[0m┃\u001b[1m \u001b[0m\u001b[1m        Param #\u001b[0m\u001b[1m \u001b[0m┃\n",
              "┡━━━━━━━━━━━━━━━━━━━━━━━━━━━━━━━━━━━━━━╇━━━━━━━━━━━━━━━━━━━━━━━━━━━━━╇━━━━━━━━━━━━━━━━━┩\n",
              "│ embedding_1 (\u001b[38;5;33mEmbedding\u001b[0m)              │ (\u001b[38;5;45mNone\u001b[0m, \u001b[38;5;34m22\u001b[0m, \u001b[38;5;34m200\u001b[0m)             │       \u001b[38;5;34m4,420,200\u001b[0m │\n",
              "├──────────────────────────────────────┼─────────────────────────────┼─────────────────┤\n",
              "│ masking_1 (\u001b[38;5;33mMasking\u001b[0m)                  │ (\u001b[38;5;45mNone\u001b[0m, \u001b[38;5;34m22\u001b[0m, \u001b[38;5;34m200\u001b[0m)             │               \u001b[38;5;34m0\u001b[0m │\n",
              "├──────────────────────────────────────┼─────────────────────────────┼─────────────────┤\n",
              "│ bidirectional_2 (\u001b[38;5;33mBidirectional\u001b[0m)      │ (\u001b[38;5;45mNone\u001b[0m, \u001b[38;5;34m22\u001b[0m, \u001b[38;5;34m400\u001b[0m)             │         \u001b[38;5;34m641,600\u001b[0m │\n",
              "├──────────────────────────────────────┼─────────────────────────────┼─────────────────┤\n",
              "│ dropout_2 (\u001b[38;5;33mDropout\u001b[0m)                  │ (\u001b[38;5;45mNone\u001b[0m, \u001b[38;5;34m22\u001b[0m, \u001b[38;5;34m400\u001b[0m)             │               \u001b[38;5;34m0\u001b[0m │\n",
              "├──────────────────────────────────────┼─────────────────────────────┼─────────────────┤\n",
              "│ bidirectional_3 (\u001b[38;5;33mBidirectional\u001b[0m)      │ (\u001b[38;5;45mNone\u001b[0m, \u001b[38;5;34m300\u001b[0m)                 │         \u001b[38;5;34m661,200\u001b[0m │\n",
              "├──────────────────────────────────────┼─────────────────────────────┼─────────────────┤\n",
              "│ dense_2 (\u001b[38;5;33mDense\u001b[0m)                      │ (\u001b[38;5;45mNone\u001b[0m, \u001b[38;5;34m256\u001b[0m)                 │          \u001b[38;5;34m77,056\u001b[0m │\n",
              "├──────────────────────────────────────┼─────────────────────────────┼─────────────────┤\n",
              "│ dropout_3 (\u001b[38;5;33mDropout\u001b[0m)                  │ (\u001b[38;5;45mNone\u001b[0m, \u001b[38;5;34m256\u001b[0m)                 │               \u001b[38;5;34m0\u001b[0m │\n",
              "├──────────────────────────────────────┼─────────────────────────────┼─────────────────┤\n",
              "│ dense_3 (\u001b[38;5;33mDense\u001b[0m)                      │ (\u001b[38;5;45mNone\u001b[0m, \u001b[38;5;34m22101\u001b[0m)               │       \u001b[38;5;34m5,679,957\u001b[0m │\n",
              "└──────────────────────────────────────┴─────────────────────────────┴─────────────────┘\n"
            ]
          },
          "metadata": {},
          "output_type": "display_data"
        },
        {
          "data": {
            "text/html": [
              "<pre style=\"white-space:pre;overflow-x:auto;line-height:normal;font-family:Menlo,'DejaVu Sans Mono',consolas,'Courier New',monospace\"><span style=\"font-weight: bold\"> Total params: </span><span style=\"color: #00af00; text-decoration-color: #00af00\">11,480,013</span> (43.79 MB)\n",
              "</pre>\n"
            ],
            "text/plain": [
              "\u001b[1m Total params: \u001b[0m\u001b[38;5;34m11,480,013\u001b[0m (43.79 MB)\n"
            ]
          },
          "metadata": {},
          "output_type": "display_data"
        },
        {
          "data": {
            "text/html": [
              "<pre style=\"white-space:pre;overflow-x:auto;line-height:normal;font-family:Menlo,'DejaVu Sans Mono',consolas,'Courier New',monospace\"><span style=\"font-weight: bold\"> Trainable params: </span><span style=\"color: #00af00; text-decoration-color: #00af00\">11,480,013</span> (43.79 MB)\n",
              "</pre>\n"
            ],
            "text/plain": [
              "\u001b[1m Trainable params: \u001b[0m\u001b[38;5;34m11,480,013\u001b[0m (43.79 MB)\n"
            ]
          },
          "metadata": {},
          "output_type": "display_data"
        },
        {
          "data": {
            "text/html": [
              "<pre style=\"white-space:pre;overflow-x:auto;line-height:normal;font-family:Menlo,'DejaVu Sans Mono',consolas,'Courier New',monospace\"><span style=\"font-weight: bold\"> Non-trainable params: </span><span style=\"color: #00af00; text-decoration-color: #00af00\">0</span> (0.00 B)\n",
              "</pre>\n"
            ],
            "text/plain": [
              "\u001b[1m Non-trainable params: \u001b[0m\u001b[38;5;34m0\u001b[0m (0.00 B)\n"
            ]
          },
          "metadata": {},
          "output_type": "display_data"
        }
      ],
      "source": [
        "model = Sequential()\n",
        "\n",
        "# Input and Embedding Layer\n",
        "model.add(Embedding(input_dim=total_words, output_dim=200, input_length=max_sequence_len-1))\n",
        "\n",
        "# Masking Layer (to ignore padding)\n",
        "model.add(Masking(mask_value=-1))\n",
        "\n",
        "# First LSTM Layer\n",
        "model.add(Bidirectional(LSTM(200, return_sequences=True)))\n",
        "\n",
        "# Dropout Layer (to prevent overfitting)\n",
        "model.add(Dropout(0.3))\n",
        "\n",
        "# Second LSTM Layer\n",
        "model.add(Bidirectional(LSTM(150)))\n",
        "\n",
        "# Dense Layer (hidden layer)\n",
        "model.add(Dense(256, activation='relu'))\n",
        "\n",
        "# Dropout Layer (to prevent overfitting)\n",
        "model.add(Dropout(0.3))\n",
        "\n",
        "# Output Layer (softmax for predicting next word)\n",
        "model.add(Dense(total_words, activation='softmax'))\n",
        "\n",
        "# Compile the model\n",
        "model.compile(loss='sparse_categorical_crossentropy', optimizer='adam', metrics=['accuracy'])\n",
        "\n",
        "model.build(input_shape=(None, max_sequence_len))  # None is for batch size\n",
        "model.summary()"
      ]
    },
    {
      "cell_type": "code",
      "execution_count": null,
      "metadata": {
        "colab": {
          "background_save": true,
          "base_uri": "https://localhost:8080/"
        },
        "id": "Z_nH16-fDinQ",
        "outputId": "a7d4e65d-055f-4903-be51-ca720e0ced86"
      },
      "outputs": [
        {
          "name": "stdout",
          "output_type": "stream",
          "text": [
            "Epoch 1/100\n",
            "\u001b[1m1013/1013\u001b[0m \u001b[32m━━━━━━━━━━━━━━━━━━━━\u001b[0m\u001b[37m\u001b[0m \u001b[1m24s\u001b[0m 21ms/step - accuracy: 0.0321 - loss: 8.3310 - val_accuracy: 0.0411 - val_loss: 7.9388\n",
            "Epoch 2/100\n",
            "\u001b[1m1013/1013\u001b[0m \u001b[32m━━━━━━━━━━━━━━━━━━━━\u001b[0m\u001b[37m\u001b[0m \u001b[1m21s\u001b[0m 20ms/step - accuracy: 0.0441 - loss: 7.7404 - val_accuracy: 0.0497 - val_loss: 7.8781\n",
            "Epoch 3/100\n",
            "\u001b[1m1013/1013\u001b[0m \u001b[32m━━━━━━━━━━━━━━━━━━━━\u001b[0m\u001b[37m\u001b[0m \u001b[1m21s\u001b[0m 20ms/step - accuracy: 0.0513 - loss: 7.5298 - val_accuracy: 0.0563 - val_loss: 7.8542\n",
            "Epoch 4/100\n",
            "\u001b[1m1013/1013\u001b[0m \u001b[32m━━━━━━━━━━━━━━━━━━━━\u001b[0m\u001b[37m\u001b[0m \u001b[1m21s\u001b[0m 20ms/step - accuracy: 0.0613 - loss: 7.3277 - val_accuracy: 0.0621 - val_loss: 7.8275\n",
            "Epoch 5/100\n",
            "\u001b[1m1013/1013\u001b[0m \u001b[32m━━━━━━━━━━━━━━━━━━━━\u001b[0m\u001b[37m\u001b[0m \u001b[1m21s\u001b[0m 20ms/step - accuracy: 0.0715 - loss: 7.1280 - val_accuracy: 0.0657 - val_loss: 7.8417\n",
            "Epoch 6/100\n",
            "\u001b[1m1013/1013\u001b[0m \u001b[32m━━━━━━━━━━━━━━━━━━━━\u001b[0m\u001b[37m\u001b[0m \u001b[1m21s\u001b[0m 20ms/step - accuracy: 0.0830 - loss: 6.9135 - val_accuracy: 0.0714 - val_loss: 7.9089\n",
            "Epoch 7/100\n",
            "\u001b[1m1013/1013\u001b[0m \u001b[32m━━━━━━━━━━━━━━━━━━━━\u001b[0m\u001b[37m\u001b[0m \u001b[1m21s\u001b[0m 20ms/step - accuracy: 0.0897 - loss: 6.7073 - val_accuracy: 0.0755 - val_loss: 7.9936\n",
            "Epoch 8/100\n",
            "\u001b[1m1013/1013\u001b[0m \u001b[32m━━━━━━━━━━━━━━━━━━━━\u001b[0m\u001b[37m\u001b[0m \u001b[1m20s\u001b[0m 20ms/step - accuracy: 0.0973 - loss: 6.5140 - val_accuracy: 0.0790 - val_loss: 8.0823\n",
            "Epoch 9/100\n",
            "\u001b[1m1013/1013\u001b[0m \u001b[32m━━━━━━━━━━━━━━━━━━━━\u001b[0m\u001b[37m\u001b[0m \u001b[1m20s\u001b[0m 20ms/step - accuracy: 0.1090 - loss: 6.2952 - val_accuracy: 0.0821 - val_loss: 8.1958\n",
            "Epoch 10/100\n",
            "\u001b[1m1013/1013\u001b[0m \u001b[32m━━━━━━━━━━━━━━━━━━━━\u001b[0m\u001b[37m\u001b[0m \u001b[1m21s\u001b[0m 20ms/step - accuracy: 0.1173 - loss: 6.1070 - val_accuracy: 0.0836 - val_loss: 8.3654\n",
            "Epoch 11/100\n",
            "\u001b[1m1013/1013\u001b[0m \u001b[32m━━━━━━━━━━━━━━━━━━━━\u001b[0m\u001b[37m\u001b[0m \u001b[1m21s\u001b[0m 20ms/step - accuracy: 0.1250 - loss: 5.9068 - val_accuracy: 0.0864 - val_loss: 8.6650\n",
            "Epoch 12/100\n",
            "\u001b[1m1013/1013\u001b[0m \u001b[32m━━━━━━━━━━━━━━━━━━━━\u001b[0m\u001b[37m\u001b[0m \u001b[1m21s\u001b[0m 20ms/step - accuracy: 0.1353 - loss: 5.7352 - val_accuracy: 0.0886 - val_loss: 8.8547\n",
            "Epoch 13/100\n",
            "\u001b[1m1013/1013\u001b[0m \u001b[32m━━━━━━━━━━━━━━━━━━━━\u001b[0m\u001b[37m\u001b[0m \u001b[1m20s\u001b[0m 20ms/step - accuracy: 0.1431 - loss: 5.5528 - val_accuracy: 0.0899 - val_loss: 9.0882\n",
            "Epoch 14/100\n",
            "\u001b[1m1013/1013\u001b[0m \u001b[32m━━━━━━━━━━━━━━━━━━━━\u001b[0m\u001b[37m\u001b[0m \u001b[1m21s\u001b[0m 20ms/step - accuracy: 0.1492 - loss: 5.4029 - val_accuracy: 0.0927 - val_loss: 9.3456\n",
            "Epoch 15/100\n",
            "\u001b[1m1013/1013\u001b[0m \u001b[32m━━━━━━━━━━━━━━━━━━━━\u001b[0m\u001b[37m\u001b[0m \u001b[1m21s\u001b[0m 20ms/step - accuracy: 0.1584 - loss: 5.2459 - val_accuracy: 0.0949 - val_loss: 9.6988\n",
            "Epoch 16/100\n",
            "\u001b[1m1013/1013\u001b[0m \u001b[32m━━━━━━━━━━━━━━━━━━━━\u001b[0m\u001b[37m\u001b[0m \u001b[1m21s\u001b[0m 20ms/step - accuracy: 0.1662 - loss: 5.1001 - val_accuracy: 0.0960 - val_loss: 10.1701\n",
            "Epoch 17/100\n",
            "\u001b[1m1013/1013\u001b[0m \u001b[32m━━━━━━━━━━━━━━━━━━━━\u001b[0m\u001b[37m\u001b[0m \u001b[1m21s\u001b[0m 20ms/step - accuracy: 0.1737 - loss: 4.9644 - val_accuracy: 0.0961 - val_loss: 10.4364\n",
            "Epoch 18/100\n",
            "\u001b[1m1013/1013\u001b[0m \u001b[32m━━━━━━━━━━━━━━━━━━━━\u001b[0m\u001b[37m\u001b[0m \u001b[1m20s\u001b[0m 20ms/step - accuracy: 0.1833 - loss: 4.8272 - val_accuracy: 0.0976 - val_loss: 10.8879\n",
            "Epoch 19/100\n",
            "\u001b[1m1013/1013\u001b[0m \u001b[32m━━━━━━━━━━━━━━━━━━━━\u001b[0m\u001b[37m\u001b[0m \u001b[1m21s\u001b[0m 20ms/step - accuracy: 0.1936 - loss: 4.6948 - val_accuracy: 0.0991 - val_loss: 11.1701\n",
            "Epoch 20/100\n",
            "\u001b[1m1013/1013\u001b[0m \u001b[32m━━━━━━━━━━━━━━━━━━━━\u001b[0m\u001b[37m\u001b[0m \u001b[1m21s\u001b[0m 20ms/step - accuracy: 0.1978 - loss: 4.5975 - val_accuracy: 0.0984 - val_loss: 11.3301\n",
            "Epoch 21/100\n",
            "\u001b[1m1013/1013\u001b[0m \u001b[32m━━━━━━━━━━━━━━━━━━━━\u001b[0m\u001b[37m\u001b[0m \u001b[1m21s\u001b[0m 20ms/step - accuracy: 0.2075 - loss: 4.4874 - val_accuracy: 0.1001 - val_loss: 11.8108\n",
            "Epoch 22/100\n",
            "\u001b[1m1013/1013\u001b[0m \u001b[32m━━━━━━━━━━━━━━━━━━━━\u001b[0m\u001b[37m\u001b[0m \u001b[1m21s\u001b[0m 20ms/step - accuracy: 0.2130 - loss: 4.4056 - val_accuracy: 0.1010 - val_loss: 12.2058\n",
            "Epoch 23/100\n",
            "\u001b[1m1013/1013\u001b[0m \u001b[32m━━━━━━━━━━━━━━━━━━━━\u001b[0m\u001b[37m\u001b[0m \u001b[1m21s\u001b[0m 20ms/step - accuracy: 0.2238 - loss: 4.2972 - val_accuracy: 0.1008 - val_loss: 12.4602\n",
            "Epoch 24/100\n",
            "\u001b[1m1013/1013\u001b[0m \u001b[32m━━━━━━━━━━━━━━━━━━━━\u001b[0m\u001b[37m\u001b[0m \u001b[1m21s\u001b[0m 20ms/step - accuracy: 0.2305 - loss: 4.2224 - val_accuracy: 0.1030 - val_loss: 12.8123\n",
            "Epoch 25/100\n",
            "\u001b[1m1013/1013\u001b[0m \u001b[32m━━━━━━━━━━━━━━━━━━━━\u001b[0m\u001b[37m\u001b[0m \u001b[1m21s\u001b[0m 20ms/step - accuracy: 0.2383 - loss: 4.1309 - val_accuracy: 0.1029 - val_loss: 13.2031\n",
            "Epoch 26/100\n",
            "\u001b[1m1013/1013\u001b[0m \u001b[32m━━━━━━━━━━━━━━━━━━━━\u001b[0m\u001b[37m\u001b[0m \u001b[1m21s\u001b[0m 20ms/step - accuracy: 0.2457 - loss: 4.0512 - val_accuracy: 0.1024 - val_loss: 13.3150\n",
            "Epoch 27/100\n",
            "\u001b[1m1013/1013\u001b[0m \u001b[32m━━━━━━━━━━━━━━━━━━━━\u001b[0m\u001b[37m\u001b[0m \u001b[1m21s\u001b[0m 20ms/step - accuracy: 0.2546 - loss: 3.9761 - val_accuracy: 0.1035 - val_loss: 13.7516\n",
            "Epoch 28/100\n",
            "\u001b[1m1013/1013\u001b[0m \u001b[32m━━━━━━━━━━━━━━━━━━━━\u001b[0m\u001b[37m\u001b[0m \u001b[1m21s\u001b[0m 20ms/step - accuracy: 0.2622 - loss: 3.9096 - val_accuracy: 0.1046 - val_loss: 13.9069\n",
            "Epoch 29/100\n",
            "\u001b[1m1013/1013\u001b[0m \u001b[32m━━━━━━━━━━━━━━━━━━━━\u001b[0m\u001b[37m\u001b[0m \u001b[1m21s\u001b[0m 20ms/step - accuracy: 0.2674 - loss: 3.8510 - val_accuracy: 0.1054 - val_loss: 14.1204\n",
            "Epoch 30/100\n",
            "\u001b[1m1013/1013\u001b[0m \u001b[32m━━━━━━━━━━━━━━━━━━━━\u001b[0m\u001b[37m\u001b[0m \u001b[1m21s\u001b[0m 20ms/step - accuracy: 0.2775 - loss: 3.7732 - val_accuracy: 0.1057 - val_loss: 14.2418\n",
            "Epoch 31/100\n",
            "\u001b[1m1013/1013\u001b[0m \u001b[32m━━━━━━━━━━━━━━━━━━━━\u001b[0m\u001b[37m\u001b[0m \u001b[1m21s\u001b[0m 20ms/step - accuracy: 0.2832 - loss: 3.7196 - val_accuracy: 0.1043 - val_loss: 14.5784\n",
            "Epoch 32/100\n",
            "\u001b[1m1013/1013\u001b[0m \u001b[32m━━━━━━━━━━━━━━━━━━━━\u001b[0m\u001b[37m\u001b[0m \u001b[1m21s\u001b[0m 20ms/step - accuracy: 0.2910 - loss: 3.6639 - val_accuracy: 0.1057 - val_loss: 14.8026\n",
            "Epoch 33/100\n",
            "\u001b[1m1013/1013\u001b[0m \u001b[32m━━━━━━━━━━━━━━━━━━━━\u001b[0m\u001b[37m\u001b[0m \u001b[1m21s\u001b[0m 20ms/step - accuracy: 0.2952 - loss: 3.6151 - val_accuracy: 0.1049 - val_loss: 14.7769\n",
            "Epoch 34/100\n",
            "\u001b[1m1013/1013\u001b[0m \u001b[32m━━━━━━━━━━━━━━━━━━━━\u001b[0m\u001b[37m\u001b[0m \u001b[1m21s\u001b[0m 20ms/step - accuracy: 0.3013 - loss: 3.5706 - val_accuracy: 0.1070 - val_loss: 15.3583\n",
            "Epoch 35/100\n",
            "\u001b[1m1013/1013\u001b[0m \u001b[32m━━━━━━━━━━━━━━━━━━━━\u001b[0m\u001b[37m\u001b[0m \u001b[1m21s\u001b[0m 20ms/step - accuracy: 0.3060 - loss: 3.5096 - val_accuracy: 0.1076 - val_loss: 15.3334\n",
            "Epoch 36/100\n",
            "\u001b[1m1013/1013\u001b[0m \u001b[32m━━━━━━━━━━━━━━━━━━━━\u001b[0m\u001b[37m\u001b[0m \u001b[1m21s\u001b[0m 20ms/step - accuracy: 0.3163 - loss: 3.4470 - val_accuracy: 0.1090 - val_loss: 15.7069\n",
            "Epoch 37/100\n",
            "\u001b[1m1013/1013\u001b[0m \u001b[32m━━━━━━━━━━━━━━━━━━━━\u001b[0m\u001b[37m\u001b[0m \u001b[1m21s\u001b[0m 20ms/step - accuracy: 0.3182 - loss: 3.4252 - val_accuracy: 0.1081 - val_loss: 15.7859\n",
            "Epoch 38/100\n",
            "\u001b[1m1013/1013\u001b[0m \u001b[32m━━━━━━━━━━━━━━━━━━━━\u001b[0m\u001b[37m\u001b[0m \u001b[1m21s\u001b[0m 20ms/step - accuracy: 0.3265 - loss: 3.3674 - val_accuracy: 0.1080 - val_loss: 15.9832\n",
            "Epoch 39/100\n",
            "\u001b[1m1013/1013\u001b[0m \u001b[32m━━━━━━━━━━━━━━━━━━━━\u001b[0m\u001b[37m\u001b[0m \u001b[1m21s\u001b[0m 20ms/step - accuracy: 0.3321 - loss: 3.3284 - val_accuracy: 0.1104 - val_loss: 16.2278\n",
            "Epoch 40/100\n",
            "\u001b[1m1013/1013\u001b[0m \u001b[32m━━━━━━━━━━━━━━━━━━━━\u001b[0m\u001b[37m\u001b[0m \u001b[1m21s\u001b[0m 20ms/step - accuracy: 0.3357 - loss: 3.2956 - val_accuracy: 0.1100 - val_loss: 16.1211\n",
            "Epoch 41/100\n",
            "\u001b[1m1013/1013\u001b[0m \u001b[32m━━━━━━━━━━━━━━━━━━━━\u001b[0m\u001b[37m\u001b[0m \u001b[1m21s\u001b[0m 20ms/step - accuracy: 0.3447 - loss: 3.2442 - val_accuracy: 0.1092 - val_loss: 16.3318\n",
            "Epoch 42/100\n",
            "\u001b[1m1013/1013\u001b[0m \u001b[32m━━━━━━━━━━━━━━━━━━━━\u001b[0m\u001b[37m\u001b[0m \u001b[1m21s\u001b[0m 20ms/step - accuracy: 0.3457 - loss: 3.2210 - val_accuracy: 0.1110 - val_loss: 16.7372\n",
            "Epoch 43/100\n",
            "\u001b[1m1013/1013\u001b[0m \u001b[32m━━━━━━━━━━━━━━━━━━━━\u001b[0m\u001b[37m\u001b[0m \u001b[1m21s\u001b[0m 20ms/step - accuracy: 0.3524 - loss: 3.1726 - val_accuracy: 0.1117 - val_loss: 16.6895\n",
            "Epoch 44/100\n",
            "\u001b[1m1013/1013\u001b[0m \u001b[32m━━━━━━━━━━━━━━━━━━━━\u001b[0m\u001b[37m\u001b[0m \u001b[1m21s\u001b[0m 20ms/step - accuracy: 0.3590 - loss: 3.1316 - val_accuracy: 0.1117 - val_loss: 17.0019\n",
            "Epoch 45/100\n",
            "\u001b[1m1013/1013\u001b[0m \u001b[32m━━━━━━━━━━━━━━━━━━━━\u001b[0m\u001b[37m\u001b[0m \u001b[1m21s\u001b[0m 20ms/step - accuracy: 0.3657 - loss: 3.0957 - val_accuracy: 0.1127 - val_loss: 17.2032\n",
            "Epoch 46/100\n",
            "\u001b[1m1013/1013\u001b[0m \u001b[32m━━━━━━━━━━━━━━━━━━━━\u001b[0m\u001b[37m\u001b[0m \u001b[1m21s\u001b[0m 20ms/step - accuracy: 0.3681 - loss: 3.0631 - val_accuracy: 0.1127 - val_loss: 17.3391\n",
            "Epoch 47/100\n",
            "\u001b[1m1013/1013\u001b[0m \u001b[32m━━━━━━━━━━━━━━━━━━━━\u001b[0m\u001b[37m\u001b[0m \u001b[1m21s\u001b[0m 21ms/step - accuracy: 0.3757 - loss: 3.0201 - val_accuracy: 0.1128 - val_loss: 17.5193\n",
            "Epoch 48/100\n",
            "\u001b[1m1013/1013\u001b[0m \u001b[32m━━━━━━━━━━━━━━━━━━━━\u001b[0m\u001b[37m\u001b[0m \u001b[1m21s\u001b[0m 20ms/step - accuracy: 0.3793 - loss: 2.9888 - val_accuracy: 0.1137 - val_loss: 17.5049\n",
            "Epoch 49/100\n",
            "\u001b[1m1013/1013\u001b[0m \u001b[32m━━━━━━━━━━━━━━━━━━━━\u001b[0m\u001b[37m\u001b[0m \u001b[1m21s\u001b[0m 20ms/step - accuracy: 0.3835 - loss: 2.9649 - val_accuracy: 0.1143 - val_loss: 18.0742\n",
            "Epoch 50/100\n",
            "\u001b[1m1013/1013\u001b[0m \u001b[32m━━━━━━━━━━━━━━━━━━━━\u001b[0m\u001b[37m\u001b[0m \u001b[1m21s\u001b[0m 20ms/step - accuracy: 0.3901 - loss: 2.9215 - val_accuracy: 0.1138 - val_loss: 18.0234\n",
            "Epoch 51/100\n",
            "\u001b[1m1013/1013\u001b[0m \u001b[32m━━━━━━━━━━━━━━━━━━━━\u001b[0m\u001b[37m\u001b[0m \u001b[1m21s\u001b[0m 20ms/step - accuracy: 0.3920 - loss: 2.9049 - val_accuracy: 0.1146 - val_loss: 18.2285\n",
            "Epoch 52/100\n",
            "\u001b[1m1013/1013\u001b[0m \u001b[32m━━━━━━━━━━━━━━━━━━━━\u001b[0m\u001b[37m\u001b[0m \u001b[1m21s\u001b[0m 20ms/step - accuracy: 0.3998 - loss: 2.8513 - val_accuracy: 0.1145 - val_loss: 18.2374\n",
            "Epoch 53/100\n",
            "\u001b[1m1013/1013\u001b[0m \u001b[32m━━━━━━━━━━━━━━━━━━━━\u001b[0m\u001b[37m\u001b[0m \u001b[1m21s\u001b[0m 20ms/step - accuracy: 0.4027 - loss: 2.8451 - val_accuracy: 0.1150 - val_loss: 18.5105\n",
            "Epoch 54/100\n",
            "\u001b[1m1013/1013\u001b[0m \u001b[32m━━━━━━━━━━━━━━━━━━━━\u001b[0m\u001b[37m\u001b[0m \u001b[1m21s\u001b[0m 20ms/step - accuracy: 0.4078 - loss: 2.7943 - val_accuracy: 0.1153 - val_loss: 18.3481\n",
            "Epoch 55/100\n",
            "\u001b[1m1013/1013\u001b[0m \u001b[32m━━━━━━━━━━━━━━━━━━━━\u001b[0m\u001b[37m\u001b[0m \u001b[1m21s\u001b[0m 20ms/step - accuracy: 0.4102 - loss: 2.7878 - val_accuracy: 0.1148 - val_loss: 18.6616\n",
            "Epoch 56/100\n",
            "\u001b[1m1013/1013\u001b[0m \u001b[32m━━━━━━━━━━━━━━━━━━━━\u001b[0m\u001b[37m\u001b[0m \u001b[1m21s\u001b[0m 21ms/step - accuracy: 0.4145 - loss: 2.7533 - val_accuracy: 0.1159 - val_loss: 18.8966\n",
            "Epoch 57/100\n",
            "\u001b[1m1013/1013\u001b[0m \u001b[32m━━━━━━━━━━━━━━━━━━━━\u001b[0m\u001b[37m\u001b[0m \u001b[1m21s\u001b[0m 21ms/step - accuracy: 0.4166 - loss: 2.7333 - val_accuracy: 0.1169 - val_loss: 18.9034\n",
            "Epoch 58/100\n",
            "\u001b[1m1013/1013\u001b[0m \u001b[32m━━━━━━━━━━━━━━━━━━━━\u001b[0m\u001b[37m\u001b[0m \u001b[1m21s\u001b[0m 21ms/step - accuracy: 0.4255 - loss: 2.6888 - val_accuracy: 0.1163 - val_loss: 18.9493\n",
            "Epoch 59/100\n",
            "\u001b[1m1013/1013\u001b[0m \u001b[32m━━━━━━━━━━━━━━━━━━━━\u001b[0m\u001b[37m\u001b[0m \u001b[1m21s\u001b[0m 21ms/step - accuracy: 0.4282 - loss: 2.6765 - val_accuracy: 0.1177 - val_loss: 18.9864\n",
            "Epoch 60/100\n",
            "\u001b[1m1013/1013\u001b[0m \u001b[32m━━━━━━━━━━━━━━━━━━━━\u001b[0m\u001b[37m\u001b[0m \u001b[1m21s\u001b[0m 21ms/step - accuracy: 0.4293 - loss: 2.6499 - val_accuracy: 0.1176 - val_loss: 19.3311\n",
            "Epoch 61/100\n",
            "\u001b[1m1013/1013\u001b[0m \u001b[32m━━━━━━━━━━━━━━━━━━━━\u001b[0m\u001b[37m\u001b[0m \u001b[1m21s\u001b[0m 21ms/step - accuracy: 0.4341 - loss: 2.6233 - val_accuracy: 0.1159 - val_loss: 19.5049\n",
            "Epoch 62/100\n",
            "\u001b[1m1013/1013\u001b[0m \u001b[32m━━━━━━━━━━━━━━━━━━━━\u001b[0m\u001b[37m\u001b[0m \u001b[1m21s\u001b[0m 21ms/step - accuracy: 0.4354 - loss: 2.6086 - val_accuracy: 0.1168 - val_loss: 19.4466\n",
            "Epoch 63/100\n",
            "\u001b[1m1013/1013\u001b[0m \u001b[32m━━━━━━━━━━━━━━━━━━━━\u001b[0m\u001b[37m\u001b[0m \u001b[1m21s\u001b[0m 21ms/step - accuracy: 0.4424 - loss: 2.5731 - val_accuracy: 0.1168 - val_loss: 19.6385\n",
            "Epoch 64/100\n",
            "\u001b[1m1013/1013\u001b[0m \u001b[32m━━━━━━━━━━━━━━━━━━━━\u001b[0m\u001b[37m\u001b[0m \u001b[1m21s\u001b[0m 21ms/step - accuracy: 0.4437 - loss: 2.5664 - val_accuracy: 0.1165 - val_loss: 20.0370\n",
            "Epoch 65/100\n",
            "\u001b[1m1013/1013\u001b[0m \u001b[32m━━━━━━━━━━━━━━━━━━━━\u001b[0m\u001b[37m\u001b[0m \u001b[1m21s\u001b[0m 21ms/step - accuracy: 0.4475 - loss: 2.5408 - val_accuracy: 0.1173 - val_loss: 19.7909\n",
            "Epoch 66/100\n",
            "\u001b[1m1013/1013\u001b[0m \u001b[32m━━━━━━━━━━━━━━━━━━━━\u001b[0m\u001b[37m\u001b[0m \u001b[1m21s\u001b[0m 21ms/step - accuracy: 0.4498 - loss: 2.5209 - val_accuracy: 0.1191 - val_loss: 20.2026\n",
            "Epoch 67/100\n",
            "\u001b[1m1013/1013\u001b[0m \u001b[32m━━━━━━━━━━━━━━━━━━━━\u001b[0m\u001b[37m\u001b[0m \u001b[1m21s\u001b[0m 21ms/step - accuracy: 0.4544 - loss: 2.4873 - val_accuracy: 0.1184 - val_loss: 20.1118\n",
            "Epoch 68/100\n",
            "\u001b[1m1013/1013\u001b[0m \u001b[32m━━━━━━━━━━━━━━━━━━━━\u001b[0m\u001b[37m\u001b[0m \u001b[1m21s\u001b[0m 21ms/step - accuracy: 0.4592 - loss: 2.4570 - val_accuracy: 0.1189 - val_loss: 20.1255\n",
            "Epoch 69/100\n",
            "\u001b[1m1013/1013\u001b[0m \u001b[32m━━━━━━━━━━━━━━━━━━━━\u001b[0m\u001b[37m\u001b[0m \u001b[1m21s\u001b[0m 21ms/step - accuracy: 0.4646 - loss: 2.4315 - val_accuracy: 0.1186 - val_loss: 20.2938\n",
            "Epoch 70/100\n",
            "\u001b[1m1013/1013\u001b[0m \u001b[32m━━━━━━━━━━━━━━━━━━━━\u001b[0m\u001b[37m\u001b[0m \u001b[1m21s\u001b[0m 21ms/step - accuracy: 0.4654 - loss: 2.4287 - val_accuracy: 0.1186 - val_loss: 20.2552\n",
            "Epoch 71/100\n",
            "\u001b[1m1013/1013\u001b[0m \u001b[32m━━━━━━━━━━━━━━━━━━━━\u001b[0m\u001b[37m\u001b[0m \u001b[1m21s\u001b[0m 21ms/step - accuracy: 0.4707 - loss: 2.4002 - val_accuracy: 0.1197 - val_loss: 20.5939\n",
            "Epoch 72/100\n",
            "\u001b[1m1013/1013\u001b[0m \u001b[32m━━━━━━━━━━━━━━━━━━━━\u001b[0m\u001b[37m\u001b[0m \u001b[1m21s\u001b[0m 21ms/step - accuracy: 0.4733 - loss: 2.3763 - val_accuracy: 0.1184 - val_loss: 20.4639\n",
            "Epoch 73/100\n",
            "\u001b[1m1013/1013\u001b[0m \u001b[32m━━━━━━━━━━━━━━━━━━━━\u001b[0m\u001b[37m\u001b[0m \u001b[1m21s\u001b[0m 21ms/step - accuracy: 0.4731 - loss: 2.3717 - val_accuracy: 0.1196 - val_loss: 20.8067\n",
            "Epoch 74/100\n",
            "\u001b[1m1013/1013\u001b[0m \u001b[32m━━━━━━━━━━━━━━━━━━━━\u001b[0m\u001b[37m\u001b[0m \u001b[1m21s\u001b[0m 21ms/step - accuracy: 0.4797 - loss: 2.3495 - val_accuracy: 0.1190 - val_loss: 20.9500\n",
            "Epoch 75/100\n",
            "\u001b[1m1013/1013\u001b[0m \u001b[32m━━━━━━━━━━━━━━━━━━━━\u001b[0m\u001b[37m\u001b[0m \u001b[1m21s\u001b[0m 21ms/step - accuracy: 0.4834 - loss: 2.3246 - val_accuracy: 0.1203 - val_loss: 20.6256\n",
            "Epoch 76/100\n",
            "\u001b[1m1013/1013\u001b[0m \u001b[32m━━━━━━━━━━━━━━━━━━━━\u001b[0m\u001b[37m\u001b[0m \u001b[1m21s\u001b[0m 21ms/step - accuracy: 0.4852 - loss: 2.3015 - val_accuracy: 0.1204 - val_loss: 20.9311\n",
            "Epoch 77/100\n",
            "\u001b[1m1013/1013\u001b[0m \u001b[32m━━━━━━━━━━━━━━━━━━━━\u001b[0m\u001b[37m\u001b[0m \u001b[1m21s\u001b[0m 21ms/step - accuracy: 0.4885 - loss: 2.2877 - val_accuracy: 0.1208 - val_loss: 21.1374\n",
            "Epoch 78/100\n",
            "\u001b[1m1013/1013\u001b[0m \u001b[32m━━━━━━━━━━━━━━━━━━━━\u001b[0m\u001b[37m\u001b[0m \u001b[1m21s\u001b[0m 21ms/step - accuracy: 0.4890 - loss: 2.2825 - val_accuracy: 0.1212 - val_loss: 21.0726\n",
            "Epoch 79/100\n",
            "\u001b[1m1013/1013\u001b[0m \u001b[32m━━━━━━━━━━━━━━━━━━━━\u001b[0m\u001b[37m\u001b[0m \u001b[1m21s\u001b[0m 21ms/step - accuracy: 0.4885 - loss: 2.2773 - val_accuracy: 0.1220 - val_loss: 21.3013\n",
            "Epoch 80/100\n",
            "\u001b[1m1013/1013\u001b[0m \u001b[32m━━━━━━━━━━━━━━━━━━━━\u001b[0m\u001b[37m\u001b[0m \u001b[1m21s\u001b[0m 21ms/step - accuracy: 0.4951 - loss: 2.2448 - val_accuracy: 0.1206 - val_loss: 21.4158\n",
            "Epoch 81/100\n",
            "\u001b[1m1013/1013\u001b[0m \u001b[32m━━━━━━━━━━━━━━━━━━━━\u001b[0m\u001b[37m\u001b[0m \u001b[1m21s\u001b[0m 21ms/step - accuracy: 0.4952 - loss: 2.2411 - val_accuracy: 0.1217 - val_loss: 21.5200\n",
            "Epoch 82/100\n",
            "\u001b[1m1013/1013\u001b[0m \u001b[32m━━━━━━━━━━━━━━━━━━━━\u001b[0m\u001b[37m\u001b[0m \u001b[1m21s\u001b[0m 21ms/step - accuracy: 0.5005 - loss: 2.2115 - val_accuracy: 0.1217 - val_loss: 21.1049\n",
            "Epoch 83/100\n",
            "\u001b[1m1013/1013\u001b[0m \u001b[32m━━━━━━━━━━━━━━━━━━━━\u001b[0m\u001b[37m\u001b[0m \u001b[1m21s\u001b[0m 21ms/step - accuracy: 0.4995 - loss: 2.2173 - val_accuracy: 0.1224 - val_loss: 21.5744\n",
            "Epoch 84/100\n",
            "\u001b[1m1013/1013\u001b[0m \u001b[32m━━━━━━━━━━━━━━━━━━━━\u001b[0m\u001b[37m\u001b[0m \u001b[1m21s\u001b[0m 21ms/step - accuracy: 0.5064 - loss: 2.1791 - val_accuracy: 0.1223 - val_loss: 21.7717\n",
            "Epoch 85/100\n",
            "\u001b[1m1013/1013\u001b[0m \u001b[32m━━━━━━━━━━━━━━━━━━━━\u001b[0m\u001b[37m\u001b[0m \u001b[1m21s\u001b[0m 21ms/step - accuracy: 0.5060 - loss: 2.1825 - val_accuracy: 0.1200 - val_loss: 21.8664\n",
            "Epoch 86/100\n",
            "\u001b[1m1013/1013\u001b[0m \u001b[32m━━━━━━━━━━━━━━━━━━━━\u001b[0m\u001b[37m\u001b[0m \u001b[1m21s\u001b[0m 21ms/step - accuracy: 0.5095 - loss: 2.1541 - val_accuracy: 0.1207 - val_loss: 21.9814\n",
            "Epoch 87/100\n",
            "\u001b[1m1013/1013\u001b[0m \u001b[32m━━━━━━━━━━━━━━━━━━━━\u001b[0m\u001b[37m\u001b[0m \u001b[1m21s\u001b[0m 21ms/step - accuracy: 0.5133 - loss: 2.1389 - val_accuracy: 0.1225 - val_loss: 21.8757\n",
            "Epoch 88/100\n",
            "\u001b[1m1013/1013\u001b[0m \u001b[32m━━━━━━━━━━━━━━━━━━━━\u001b[0m\u001b[37m\u001b[0m \u001b[1m21s\u001b[0m 21ms/step - accuracy: 0.5144 - loss: 2.1339 - val_accuracy: 0.1228 - val_loss: 22.3025\n",
            "Epoch 89/100\n",
            "\u001b[1m1013/1013\u001b[0m \u001b[32m━━━━━━━━━━━━━━━━━━━━\u001b[0m\u001b[37m\u001b[0m \u001b[1m21s\u001b[0m 21ms/step - accuracy: 0.5161 - loss: 2.1259 - val_accuracy: 0.1225 - val_loss: 22.6518\n",
            "Epoch 90/100\n",
            "\u001b[1m1013/1013\u001b[0m \u001b[32m━━━━━━━━━━━━━━━━━━━━\u001b[0m\u001b[37m\u001b[0m \u001b[1m21s\u001b[0m 21ms/step - accuracy: 0.5200 - loss: 2.1097 - val_accuracy: 0.1215 - val_loss: 22.4613\n",
            "Epoch 91/100\n",
            "\u001b[1m1013/1013\u001b[0m \u001b[32m━━━━━━━━━━━━━━━━━━━━\u001b[0m\u001b[37m\u001b[0m \u001b[1m21s\u001b[0m 21ms/step - accuracy: 0.5214 - loss: 2.0876 - val_accuracy: 0.1218 - val_loss: 22.3075\n",
            "Epoch 92/100\n",
            "\u001b[1m1013/1013\u001b[0m \u001b[32m━━━━━━━━━━━━━━━━━━━━\u001b[0m\u001b[37m\u001b[0m \u001b[1m21s\u001b[0m 21ms/step - accuracy: 0.5266 - loss: 2.0713 - val_accuracy: 0.1230 - val_loss: 22.8081\n",
            "Epoch 93/100\n",
            "\u001b[1m1013/1013\u001b[0m \u001b[32m━━━━━━━━━━━━━━━━━━━━\u001b[0m\u001b[37m\u001b[0m \u001b[1m21s\u001b[0m 21ms/step - accuracy: 0.5238 - loss: 2.0654 - val_accuracy: 0.1233 - val_loss: 22.4865\n",
            "Epoch 94/100\n",
            "\u001b[1m1013/1013\u001b[0m \u001b[32m━━━━━━━━━━━━━━━━━━━━\u001b[0m\u001b[37m\u001b[0m \u001b[1m21s\u001b[0m 21ms/step - accuracy: 0.5283 - loss: 2.0563 - val_accuracy: 0.1228 - val_loss: 22.5969\n",
            "Epoch 95/100\n",
            "\u001b[1m1013/1013\u001b[0m \u001b[32m━━━━━━━━━━━━━━━━━━━━\u001b[0m\u001b[37m\u001b[0m \u001b[1m21s\u001b[0m 21ms/step - accuracy: 0.5339 - loss: 2.0257 - val_accuracy: 0.1233 - val_loss: 23.0213\n",
            "Epoch 96/100\n",
            "\u001b[1m1013/1013\u001b[0m \u001b[32m━━━━━━━━━━━━━━━━━━━━\u001b[0m\u001b[37m\u001b[0m \u001b[1m21s\u001b[0m 21ms/step - accuracy: 0.5326 - loss: 2.0285 - val_accuracy: 0.1226 - val_loss: 22.8124\n",
            "Epoch 97/100\n",
            "\u001b[1m1013/1013\u001b[0m \u001b[32m━━━━━━━━━━━━━━━━━━━━\u001b[0m\u001b[37m\u001b[0m \u001b[1m21s\u001b[0m 20ms/step - accuracy: 0.5319 - loss: 2.0235 - val_accuracy: 0.1227 - val_loss: 23.0810\n",
            "Epoch 98/100\n",
            "\u001b[1m1013/1013\u001b[0m \u001b[32m━━━━━━━━━━━━━━━━━━━━\u001b[0m\u001b[37m\u001b[0m \u001b[1m21s\u001b[0m 20ms/step - accuracy: 0.5368 - loss: 2.0025 - val_accuracy: 0.1229 - val_loss: 23.1692\n",
            "Epoch 99/100\n",
            "\u001b[1m1013/1013\u001b[0m \u001b[32m━━━━━━━━━━━━━━━━━━━━\u001b[0m\u001b[37m\u001b[0m \u001b[1m21s\u001b[0m 20ms/step - accuracy: 0.5430 - loss: 1.9696 - val_accuracy: 0.1230 - val_loss: 23.7444\n",
            "Epoch 100/100\n",
            "\u001b[1m1013/1013\u001b[0m \u001b[32m━━━━━━━━━━━━━━━━━━━━\u001b[0m\u001b[37m\u001b[0m \u001b[1m21s\u001b[0m 20ms/step - accuracy: 0.5407 - loss: 1.9885 - val_accuracy: 0.1229 - val_loss: 22.9988\n"
          ]
        }
      ],
      "source": [
        "history = model.fit(\n",
        "    x_train,\n",
        "    y_train,\n",
        "    epochs=100,\n",
        "    batch_size=128,\n",
        "    validation_data=(x_test, y_test),\n",
        "    verbose=1,\n",
        ")"
      ]
    },
    {
      "cell_type": "code",
      "execution_count": 18,
      "metadata": {
        "colab": {
          "base_uri": "https://localhost:8080/"
        },
        "id": "CtmnQ-43DinQ",
        "outputId": "155cc2d6-cfad-4dde-cca8-6ed9ed0be271"
      },
      "outputs": [
        {
          "output_type": "stream",
          "name": "stderr",
          "text": [
            "WARNING:absl:You are saving your model as an HDF5 file via `model.save()` or `keras.saving.save_model(model)`. This file format is considered legacy. We recommend using instead the native Keras format, e.g. `model.save('my_model.keras')` or `keras.saving.save_model(model, 'my_model.keras')`. \n"
          ]
        }
      ],
      "source": [
        "  model.save('final_model.h5')"
      ]
    },
    {
      "cell_type": "code",
      "source": [],
      "metadata": {
        "id": "Fv7WryeYnz2l"
      },
      "execution_count": null,
      "outputs": []
    }
  ],
  "metadata": {
    "accelerator": "GPU",
    "colab": {
      "gpuType": "A100",
      "machine_shape": "hm",
      "provenance": []
    },
    "kernelspec": {
      "display_name": "Python 3",
      "name": "python3"
    },
    "language_info": {
      "codemirror_mode": {
        "name": "ipython",
        "version": 3
      },
      "file_extension": ".py",
      "mimetype": "text/x-python",
      "name": "python",
      "nbconvert_exporter": "python",
      "pygments_lexer": "ipython3",
      "version": "3.12.2"
    }
  },
  "nbformat": 4,
  "nbformat_minor": 0
}