{
 "cells": [
  {
   "cell_type": "code",
   "execution_count": 1,
   "metadata": {},
   "outputs": [],
   "source": [
    "import pickle\n",
    "import numpy as np\n",
    "import tensorflow as tf\n",
    "from tensorflow.keras.preprocessing.text import Tokenizer\n",
    "from tensorflow.keras.preprocessing.sequence import pad_sequences\n",
    "from tensorflow.keras.models import Sequential, load_model\n",
    "from tensorflow.keras.layers import Embedding, LSTM, Dense\n",
    "from sklearn.model_selection import train_test_split\n",
    "from keras.regularizers import l2\n",
    "# Read the text file\n",
    "with open('en_US.blogs.txt', 'r', encoding='utf-8') as file:\n",
    "    text = file.read()\n"
   ]
  },
  {
   "cell_type": "code",
   "execution_count": 2,
   "metadata": {},
   "outputs": [
    {
     "name": "stdout",
     "output_type": "stream",
     "text": [
      "207723793\n"
     ]
    },
    {
     "data": {
      "text/plain": [
       "100000"
      ]
     },
     "execution_count": 2,
     "metadata": {},
     "output_type": "execute_result"
    }
   ],
   "source": [
    "print(len(text))\n",
    "text = text[200000:300000]\n",
    "len(text)"
   ]
  },
  {
   "cell_type": "code",
   "execution_count": 3,
   "metadata": {},
   "outputs": [
    {
     "data": {
      "text/plain": [
       "30393"
      ]
     },
     "execution_count": 3,
     "metadata": {},
     "output_type": "execute_result"
    }
   ],
   "source": [
    "with open('tokenizer.pkl', 'rb') as handle:\n",
    "    tokenizer = pickle.load(handle)\n",
    "total_words = len(tokenizer.word_index) + 1\n",
    "total_words"
   ]
  },
  {
   "cell_type": "code",
   "execution_count": 4,
   "metadata": {},
   "outputs": [],
   "source": [
    "input_sequences = []\n",
    "for line in text.split('\\n'):\n",
    "    token_list = tokenizer.texts_to_sequences([line])[0]\n",
    "    for i in range(1, len(token_list)):\n",
    "        n_gram_sequence = token_list[:i+1]\n",
    "        input_sequences.append(n_gram_sequence)"
   ]
  },
  {
   "cell_type": "code",
   "execution_count": 5,
   "metadata": {},
   "outputs": [
    {
     "data": {
      "text/plain": [
       "681"
      ]
     },
     "execution_count": 5,
     "metadata": {},
     "output_type": "execute_result"
    }
   ],
   "source": [
    "with open('max_sequence_len.pkl', 'rb') as f:\n",
    "    max_sequence_len = pickle.load(f)\n",
    "max_sequence_len"
   ]
  },
  {
   "cell_type": "code",
   "execution_count": 6,
   "metadata": {},
   "outputs": [],
   "source": [
    "input_sequences = np.array(pad_sequences(input_sequences, maxlen=max_sequence_len, padding='pre'))"
   ]
  },
  {
   "cell_type": "code",
   "execution_count": 7,
   "metadata": {},
   "outputs": [
    {
     "data": {
      "text/plain": [
       "681"
      ]
     },
     "execution_count": 7,
     "metadata": {},
     "output_type": "execute_result"
    }
   ],
   "source": [
    "max_sequence_len"
   ]
  },
  {
   "cell_type": "code",
   "execution_count": 8,
   "metadata": {},
   "outputs": [],
   "source": [
    "X = input_sequences[:, :-1]\n",
    "y = input_sequences[:, -1]"
   ]
  },
  {
   "cell_type": "code",
   "execution_count": 9,
   "metadata": {},
   "outputs": [],
   "source": [
    "y = np.array(tf.keras.utils.to_categorical(y, num_classes=total_words))"
   ]
  },
  {
   "cell_type": "code",
   "execution_count": 10,
   "metadata": {},
   "outputs": [
    {
     "name": "stdout",
     "output_type": "stream",
     "text": [
      "17843\n",
      "17843\n"
     ]
    }
   ],
   "source": [
    "print(len(X))\n",
    "print(len(y))"
   ]
  },
  {
   "cell_type": "code",
   "execution_count": 11,
   "metadata": {},
   "outputs": [
    {
     "name": "stdout",
     "output_type": "stream",
     "text": [
      "Model: \"sequential\"\n",
      "_________________________________________________________________\n",
      " Layer (type)                Output Shape              Param #   \n",
      "=================================================================\n",
      " embedding (Embedding)       (None, 680, 100)          3039300   \n",
      "                                                                 \n",
      " lstm (LSTM)                 (None, 150)               150600    \n",
      "                                                                 \n",
      " dropout (Dropout)           (None, 150)               0         \n",
      "                                                                 \n",
      " batch_normalization (BatchN  (None, 150)              600       \n",
      " ormalization)                                                   \n",
      "                                                                 \n",
      " dense (Dense)               (None, 30393)             4589343   \n",
      "                                                                 \n",
      "=================================================================\n",
      "Total params: 7,779,843\n",
      "Trainable params: 7,779,543\n",
      "Non-trainable params: 300\n",
      "_________________________________________________________________\n",
      "None\n"
     ]
    }
   ],
   "source": [
    "model = load_model(\"baseModel.h5\")\n",
    "# model = Sequential()\n",
    "# model.add(Embedding(total_words, 100, input_length=max_sequence_len-1))\n",
    "# model.add(LSTM(150), kernel_regularizer=l2(0.01))\n",
    "# model.add(Dense(total_words, activation='softmax'))\n",
    "print(model.summary())"
   ]
  },
  {
   "cell_type": "code",
   "execution_count": 12,
   "metadata": {},
   "outputs": [
    {
     "data": {
      "text/plain": [
       "14274"
      ]
     },
     "execution_count": 12,
     "metadata": {},
     "output_type": "execute_result"
    }
   ],
   "source": [
    "X_train, X_temp, Y_train, Y_temp = train_test_split(X,y, test_size=0.2, random_state=42)\n",
    "X_val, X_test, Y_val, Y_test = train_test_split(X_temp,Y_temp, test_size=0.5, random_state=42)\n",
    "len(X_train)"
   ]
  },
  {
   "cell_type": "code",
   "execution_count": 13,
   "metadata": {},
   "outputs": [
    {
     "name": "stdout",
     "output_type": "stream",
     "text": [
      "Epoch 1/30\n",
      "447/447 [==============================] - 33s 66ms/step - loss: 8.9172 - accuracy: 0.0535 - val_loss: 7.4308 - val_accuracy: 0.0830\n",
      "Epoch 2/30\n",
      "447/447 [==============================] - 29s 64ms/step - loss: 6.7705 - accuracy: 0.0902 - val_loss: 7.6617 - val_accuracy: 0.1015\n",
      "Epoch 3/30\n",
      "447/447 [==============================] - 29s 65ms/step - loss: 6.1258 - accuracy: 0.1065 - val_loss: 7.8330 - val_accuracy: 0.0947\n",
      "Epoch 4/30\n",
      "447/447 [==============================] - 28s 63ms/step - loss: 5.4673 - accuracy: 0.1297 - val_loss: 8.2115 - val_accuracy: 0.0908\n",
      "Epoch 5/30\n",
      "447/447 [==============================] - 28s 64ms/step - loss: 4.5876 - accuracy: 0.1884 - val_loss: 8.9567 - val_accuracy: 0.0779\n",
      "Epoch 6/30\n",
      "447/447 [==============================] - 28s 63ms/step - loss: 3.5802 - accuracy: 0.3139 - val_loss: 9.7985 - val_accuracy: 0.0757\n",
      "Epoch 7/30\n",
      "447/447 [==============================] - 29s 65ms/step - loss: 2.7409 - accuracy: 0.4522 - val_loss: 10.4775 - val_accuracy: 0.0734\n",
      "Epoch 8/30\n",
      "447/447 [==============================] - 29s 64ms/step - loss: 2.1659 - accuracy: 0.5532 - val_loss: 10.8166 - val_accuracy: 0.0734\n",
      "Epoch 9/30\n",
      "447/447 [==============================] - 28s 64ms/step - loss: 1.7838 - accuracy: 0.6251 - val_loss: 11.5637 - val_accuracy: 0.0549\n",
      "Epoch 10/30\n",
      "447/447 [==============================] - 29s 64ms/step - loss: 1.4971 - accuracy: 0.6847 - val_loss: 11.6362 - val_accuracy: 0.0633\n",
      "Epoch 11/30\n",
      "447/447 [==============================] - 28s 64ms/step - loss: 1.3021 - accuracy: 0.7317 - val_loss: 12.0789 - val_accuracy: 0.0594\n",
      "Epoch 12/30\n",
      "447/447 [==============================] - 29s 64ms/step - loss: 1.1307 - accuracy: 0.7674 - val_loss: 12.6373 - val_accuracy: 0.0583\n",
      "Epoch 13/30\n",
      "447/447 [==============================] - 28s 64ms/step - loss: 1.2106 - accuracy: 0.7505 - val_loss: 12.9297 - val_accuracy: 0.0600\n",
      "Epoch 14/30\n",
      "447/447 [==============================] - 29s 64ms/step - loss: 0.9434 - accuracy: 0.8120 - val_loss: 13.1145 - val_accuracy: 0.0600\n",
      "Epoch 15/30\n",
      "447/447 [==============================] - 29s 64ms/step - loss: 0.8205 - accuracy: 0.8388 - val_loss: 13.3952 - val_accuracy: 0.0561\n",
      "Epoch 16/30\n",
      "447/447 [==============================] - 28s 64ms/step - loss: 0.7643 - accuracy: 0.8506 - val_loss: 13.6898 - val_accuracy: 0.0527\n",
      "Epoch 17/30\n",
      "447/447 [==============================] - 28s 63ms/step - loss: 0.7220 - accuracy: 0.8587 - val_loss: 13.9189 - val_accuracy: 0.0555\n",
      "Epoch 18/30\n",
      "447/447 [==============================] - 28s 63ms/step - loss: 0.6869 - accuracy: 0.8671 - val_loss: 13.9243 - val_accuracy: 0.0577\n",
      "Epoch 19/30\n",
      "447/447 [==============================] - 28s 63ms/step - loss: 0.6251 - accuracy: 0.8843 - val_loss: 14.3548 - val_accuracy: 0.0555\n",
      "Epoch 20/30\n",
      "447/447 [==============================] - 29s 64ms/step - loss: 0.6150 - accuracy: 0.8843 - val_loss: 14.3941 - val_accuracy: 0.0617\n",
      "Epoch 21/30\n",
      "447/447 [==============================] - 28s 63ms/step - loss: 0.5866 - accuracy: 0.8932 - val_loss: 14.7991 - val_accuracy: 0.0521\n",
      "Epoch 22/30\n",
      "447/447 [==============================] - 29s 64ms/step - loss: 0.5889 - accuracy: 0.8936 - val_loss: 14.4823 - val_accuracy: 0.0504\n",
      "Epoch 23/30\n",
      "447/447 [==============================] - 28s 64ms/step - loss: 0.5332 - accuracy: 0.9035 - val_loss: 14.5887 - val_accuracy: 0.0521\n",
      "Epoch 24/30\n",
      "447/447 [==============================] - 28s 64ms/step - loss: 0.5382 - accuracy: 0.9037 - val_loss: 15.2726 - val_accuracy: 0.0504\n",
      "Epoch 25/30\n",
      "447/447 [==============================] - 28s 64ms/step - loss: 0.5398 - accuracy: 0.9045 - val_loss: 14.8298 - val_accuracy: 0.0566\n",
      "Epoch 26/30\n",
      "447/447 [==============================] - 28s 63ms/step - loss: 0.5112 - accuracy: 0.9068 - val_loss: 15.5449 - val_accuracy: 0.0460\n",
      "Epoch 27/30\n",
      "447/447 [==============================] - 28s 63ms/step - loss: 0.4831 - accuracy: 0.9152 - val_loss: 15.0706 - val_accuracy: 0.0510\n",
      "Epoch 28/30\n",
      "447/447 [==============================] - 29s 65ms/step - loss: 0.4569 - accuracy: 0.9214 - val_loss: 14.9011 - val_accuracy: 0.0504\n",
      "Epoch 29/30\n",
      "447/447 [==============================] - 39s 87ms/step - loss: 0.4572 - accuracy: 0.9206 - val_loss: 15.4553 - val_accuracy: 0.0566\n",
      "Epoch 30/30\n",
      "447/447 [==============================] - 36s 82ms/step - loss: 0.4419 - accuracy: 0.9237 - val_loss: 15.4555 - val_accuracy: 0.0521\n"
     ]
    },
    {
     "data": {
      "text/plain": [
       "<keras.callbacks.History at 0x1ead4d7c6a0>"
      ]
     },
     "execution_count": 13,
     "metadata": {},
     "output_type": "execute_result"
    }
   ],
   "source": [
    "model.compile(loss='categorical_crossentropy', optimizer='adam', metrics=['accuracy'])\n",
    "model.fit(X_train, Y_train, epochs=30, verbose=1, validation_data=(X_val, Y_val))"
   ]
  },
  {
   "cell_type": "code",
   "execution_count": 18,
   "metadata": {},
   "outputs": [
    {
     "name": "stdout",
     "output_type": "stream",
     "text": [
      "1/1 [==============================] - 0s 47ms/step\n",
      "1/1 [==============================] - 0s 48ms/step\n",
      "1/1 [==============================] - 0s 46ms/step\n",
      "Hello how are you in your post\n"
     ]
    }
   ],
   "source": [
    "seed_text = \"Hello how are you\"\n",
    "next_words = 3\n",
    "\n",
    "for _ in range(next_words):\n",
    "    token_list = tokenizer.texts_to_sequences([seed_text])[0]\n",
    "    token_list = pad_sequences([token_list], maxlen=max_sequence_len-1, padding='pre')\n",
    "    predicted = np.argmax(model.predict(token_list), axis=-1)\n",
    "    output_word = \"\"\n",
    "    for word, index in tokenizer.word_index.items():\n",
    "        if index == predicted:\n",
    "            output_word = word\n",
    "            break\n",
    "    seed_text += \" \" + output_word\n",
    "\n",
    "print(seed_text)"
   ]
  },
  {
   "cell_type": "code",
   "execution_count": 19,
   "metadata": {},
   "outputs": [],
   "source": [
    "model.save(\"baseModel.h5\")"
   ]
  },
  {
   "cell_type": "code",
   "execution_count": null,
   "metadata": {},
   "outputs": [],
   "source": []
  }
 ],
 "metadata": {
  "kernelspec": {
   "display_name": "tf",
   "language": "python",
   "name": "python3"
  },
  "language_info": {
   "codemirror_mode": {
    "name": "ipython",
    "version": 3
   },
   "file_extension": ".py",
   "mimetype": "text/x-python",
   "name": "python",
   "nbconvert_exporter": "python",
   "pygments_lexer": "ipython3",
   "version": "3.9.20"
  }
 },
 "nbformat": 4,
 "nbformat_minor": 2
}
