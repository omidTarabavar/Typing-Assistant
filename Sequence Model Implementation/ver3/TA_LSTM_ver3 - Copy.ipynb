{
 "cells": [
  {
   "cell_type": "code",
   "execution_count": 1,
   "metadata": {},
   "outputs": [],
   "source": [
    "import pickle\n",
    "import numpy as np\n",
    "import tensorflow as tf\n",
    "from tensorflow.keras.preprocessing.text import Tokenizer\n",
    "from tensorflow.keras.preprocessing.sequence import pad_sequences\n",
    "from tensorflow.keras.models import Sequential, load_model\n",
    "from tensorflow.keras.layers import Embedding, LSTM, Dense\n",
    "from sklearn.model_selection import train_test_split\n",
    "from tensorflow.keras.layers import BatchNormalization, Dropout\n",
    "from tensorflow.keras import regularizers\n",
    "from keras.regularizers import l2\n",
    "# Read the text file\n",
    "with open('en_US.blogs.txt', 'r', encoding='utf-8') as file:\n",
    "    text = file.read()"
   ]
  },
  {
   "cell_type": "code",
   "execution_count": 2,
   "metadata": {},
   "outputs": [
    {
     "data": {
      "text/plain": [
       "2500000"
      ]
     },
     "execution_count": 2,
     "metadata": {},
     "output_type": "execute_result"
    }
   ],
   "source": [
    "text = text[:2500000]\n",
    "len(text)"
   ]
  },
  {
   "cell_type": "code",
   "execution_count": 3,
   "metadata": {},
   "outputs": [
    {
     "data": {
      "text/plain": [
       "34369"
      ]
     },
     "execution_count": 3,
     "metadata": {},
     "output_type": "execute_result"
    }
   ],
   "source": [
    "tokenizer = Tokenizer(oov_token=\"<OOV>\")\n",
    "tokenizer.fit_on_texts([text])\n",
    "total_words = len(tokenizer.word_index) + 1\n",
    "with open('tokenizer.pkl', 'wb') as handle:\n",
    "    pickle.dump(tokenizer, handle)\n",
    "total_words"
   ]
  },
  {
   "cell_type": "code",
   "execution_count": 10,
   "metadata": {},
   "outputs": [
    {
     "data": {
      "text/plain": [
       "34369"
      ]
     },
     "execution_count": 10,
     "metadata": {},
     "output_type": "execute_result"
    }
   ],
   "source": [
    "with open('tokenizer.pkl', 'rb') as handle:\n",
    "    tokenizer = pickle.load(handle)\n",
    "total_words = len(tokenizer.word_index) + 1\n",
    "total_words"
   ]
  },
  {
   "cell_type": "code",
   "execution_count": 11,
   "metadata": {},
   "outputs": [],
   "source": [
    "input_sequences = []\n",
    "for line in text.split('\\n'):\n",
    "    token_list = tokenizer.texts_to_sequences([line])[0]\n",
    "    for i in range(1, len(token_list)):\n",
    "        n_gram_sequence = token_list[:i+1]\n",
    "        input_sequences.append(n_gram_sequence)"
   ]
  },
  {
   "cell_type": "code",
   "execution_count": 6,
   "metadata": {},
   "outputs": [
    {
     "data": {
      "text/plain": [
       "681"
      ]
     },
     "execution_count": 6,
     "metadata": {},
     "output_type": "execute_result"
    }
   ],
   "source": [
    "with open('max_sequence_len.pkl', 'rb') as f:\n",
    "    max_sequence_len = pickle.load(f)\n",
    "max_sequence_len"
   ]
  },
  {
   "cell_type": "code",
   "execution_count": 13,
   "metadata": {},
   "outputs": [
    {
     "data": {
      "text/plain": [
       "681"
      ]
     },
     "execution_count": 13,
     "metadata": {},
     "output_type": "execute_result"
    }
   ],
   "source": [
    "max_sequence_len = max([len(seq) for seq in input_sequences])\n",
    "input_sequences = np.array(pad_sequences(input_sequences, maxlen=max_sequence_len, padding='pre'))\n",
    "max_sequence_len"
   ]
  },
  {
   "cell_type": "code",
   "execution_count": 14,
   "metadata": {},
   "outputs": [
    {
     "data": {
      "text/plain": [
       "681"
      ]
     },
     "execution_count": 14,
     "metadata": {},
     "output_type": "execute_result"
    }
   ],
   "source": [
    "# with open('max_sequence_len.pkl', 'wb') as handle:\n",
    "#     pickle.dump(max_sequence_len, handle)\n",
    "# max_sequence_len"
   ]
  },
  {
   "cell_type": "code",
   "execution_count": 9,
   "metadata": {},
   "outputs": [
    {
     "data": {
      "text/plain": [
       "(17897, 680)"
      ]
     },
     "execution_count": 9,
     "metadata": {},
     "output_type": "execute_result"
    }
   ],
   "source": [
    "X = input_sequences[:, :-1]\n",
    "y = input_sequences[:, -1]\n",
    "X.shape"
   ]
  },
  {
   "cell_type": "code",
   "execution_count": 10,
   "metadata": {},
   "outputs": [
    {
     "data": {
      "text/plain": [
       "(17897, 30393)"
      ]
     },
     "execution_count": 10,
     "metadata": {},
     "output_type": "execute_result"
    }
   ],
   "source": [
    "y = np.array(tf.keras.utils.to_categorical(y, num_classes=total_words))\n",
    "y.shape"
   ]
  },
  {
   "cell_type": "code",
   "execution_count": 11,
   "metadata": {},
   "outputs": [
    {
     "name": "stdout",
     "output_type": "stream",
     "text": [
      "17897\n",
      "17897\n"
     ]
    }
   ],
   "source": [
    "print(len(X))\n",
    "print(len(y))"
   ]
  },
  {
   "cell_type": "code",
   "execution_count": 12,
   "metadata": {},
   "outputs": [
    {
     "name": "stdout",
     "output_type": "stream",
     "text": [
      "Model: \"sequential\"\n",
      "_________________________________________________________________\n",
      " Layer (type)                Output Shape              Param #   \n",
      "=================================================================\n",
      " embedding (Embedding)       (None, 680, 100)          3039300   \n",
      "                                                                 \n",
      " lstm (LSTM)                 (None, 150)               150600    \n",
      "                                                                 \n",
      " dropout (Dropout)           (None, 150)               0         \n",
      "                                                                 \n",
      " batch_normalization (BatchN  (None, 150)              600       \n",
      " ormalization)                                                   \n",
      "                                                                 \n",
      " dense (Dense)               (None, 30393)             4589343   \n",
      "                                                                 \n",
      "=================================================================\n",
      "Total params: 7,779,843\n",
      "Trainable params: 7,779,543\n",
      "Non-trainable params: 300\n",
      "_________________________________________________________________\n",
      "None\n"
     ]
    }
   ],
   "source": [
    "#model = load_model(\"baseModel.h5\")\n",
    "model = Sequential()\n",
    "model.add(Embedding(total_words, 100, input_length=max_sequence_len-1))\n",
    "model.add(LSTM(50, kernel_regularizer=regularizers.l2(0.0001)))\n",
    "model.add(Dropout(0.2))\n",
    "model.add(BatchNormalization())\n",
    "model.add(Dense(total_words, activation='softmax'))\n",
    "print(model.summary())"
   ]
  },
  {
   "cell_type": "code",
   "execution_count": 13,
   "metadata": {},
   "outputs": [],
   "source": [
    "X_train, X_temp, Y_train, Y_temp = train_test_split(X,y, test_size=0.2, random_state=42)\n",
    "X_val, X_test, Y_val, Y_test = train_test_split(X_temp,Y_temp, test_size=0.5, random_state=42)"
   ]
  },
  {
   "cell_type": "code",
   "execution_count": 14,
   "metadata": {},
   "outputs": [
    {
     "name": "stdout",
     "output_type": "stream",
     "text": [
      "Epoch 1/30\n",
      "448/448 [==============================] - 33s 66ms/step - loss: 8.4976 - accuracy: 0.0389 - val_loss: 7.7193 - val_accuracy: 0.0536\n",
      "Epoch 2/30\n",
      "448/448 [==============================] - 30s 66ms/step - loss: 6.6690 - accuracy: 0.0675 - val_loss: 7.7379 - val_accuracy: 0.0687\n",
      "Epoch 3/30\n",
      "448/448 [==============================] - 30s 68ms/step - loss: 6.0293 - accuracy: 0.1018 - val_loss: 8.1041 - val_accuracy: 0.0698\n",
      "Epoch 4/30\n",
      "448/448 [==============================] - 30s 67ms/step - loss: 5.3845 - accuracy: 0.1370 - val_loss: 8.3929 - val_accuracy: 0.0693\n",
      "Epoch 5/30\n",
      "448/448 [==============================] - 30s 67ms/step - loss: 4.6500 - accuracy: 0.1977 - val_loss: 8.8692 - val_accuracy: 0.0592\n",
      "Epoch 6/30\n",
      "448/448 [==============================] - 29s 65ms/step - loss: 3.8893 - accuracy: 0.2794 - val_loss: 9.5895 - val_accuracy: 0.0531\n",
      "Epoch 7/30\n",
      "448/448 [==============================] - 29s 65ms/step - loss: 3.1398 - accuracy: 0.3886 - val_loss: 10.2977 - val_accuracy: 0.0531\n",
      "Epoch 8/30\n",
      "448/448 [==============================] - 29s 64ms/step - loss: 2.5152 - accuracy: 0.4917 - val_loss: 11.1098 - val_accuracy: 0.0497\n",
      "Epoch 9/30\n",
      "448/448 [==============================] - 29s 65ms/step - loss: 2.0144 - accuracy: 0.5815 - val_loss: 11.6459 - val_accuracy: 0.0453\n",
      "Epoch 10/30\n",
      "448/448 [==============================] - 29s 65ms/step - loss: 1.6606 - accuracy: 0.6531 - val_loss: 12.3474 - val_accuracy: 0.0425\n",
      "Epoch 11/30\n",
      "448/448 [==============================] - 29s 65ms/step - loss: 1.4076 - accuracy: 0.7010 - val_loss: 12.7531 - val_accuracy: 0.0419\n",
      "Epoch 12/30\n",
      "448/448 [==============================] - 29s 65ms/step - loss: 1.2346 - accuracy: 0.7351 - val_loss: 13.2024 - val_accuracy: 0.0397\n",
      "Epoch 13/30\n",
      "448/448 [==============================] - 29s 65ms/step - loss: 1.0621 - accuracy: 0.7710 - val_loss: 13.6027 - val_accuracy: 0.0402\n",
      "Epoch 14/30\n",
      "448/448 [==============================] - 29s 64ms/step - loss: 0.9674 - accuracy: 0.7925 - val_loss: 13.7596 - val_accuracy: 0.0391\n",
      "Epoch 15/30\n",
      "448/448 [==============================] - 29s 65ms/step - loss: 0.8834 - accuracy: 0.8113 - val_loss: 14.2401 - val_accuracy: 0.0413\n",
      "Epoch 16/30\n",
      "448/448 [==============================] - 29s 65ms/step - loss: 0.8314 - accuracy: 0.8166 - val_loss: 14.3491 - val_accuracy: 0.0358\n",
      "Epoch 17/30\n",
      "448/448 [==============================] - 29s 65ms/step - loss: 0.7751 - accuracy: 0.8323 - val_loss: 14.5747 - val_accuracy: 0.0335\n",
      "Epoch 18/30\n",
      "448/448 [==============================] - 29s 65ms/step - loss: 0.7088 - accuracy: 0.8472 - val_loss: 14.6387 - val_accuracy: 0.0352\n",
      "Epoch 19/30\n",
      "448/448 [==============================] - 29s 65ms/step - loss: 0.6677 - accuracy: 0.8582 - val_loss: 14.9838 - val_accuracy: 0.0419\n",
      "Epoch 20/30\n",
      "448/448 [==============================] - 29s 65ms/step - loss: 0.6479 - accuracy: 0.8640 - val_loss: 15.1154 - val_accuracy: 0.0391\n",
      "Epoch 21/30\n",
      "448/448 [==============================] - 29s 65ms/step - loss: 0.6213 - accuracy: 0.8675 - val_loss: 15.7341 - val_accuracy: 0.0324\n",
      "Epoch 22/30\n",
      "448/448 [==============================] - 29s 65ms/step - loss: 0.6083 - accuracy: 0.8684 - val_loss: 15.6181 - val_accuracy: 0.0413\n",
      "Epoch 23/30\n",
      "448/448 [==============================] - 29s 65ms/step - loss: 0.5543 - accuracy: 0.8844 - val_loss: 15.8502 - val_accuracy: 0.0385\n",
      "Epoch 24/30\n",
      "448/448 [==============================] - 29s 65ms/step - loss: 0.5579 - accuracy: 0.8824 - val_loss: 15.8783 - val_accuracy: 0.0391\n",
      "Epoch 25/30\n",
      "448/448 [==============================] - 29s 64ms/step - loss: 0.5485 - accuracy: 0.8806 - val_loss: 15.7119 - val_accuracy: 0.0419\n",
      "Epoch 26/30\n",
      "448/448 [==============================] - 29s 64ms/step - loss: 0.5083 - accuracy: 0.8943 - val_loss: 16.0359 - val_accuracy: 0.0408\n",
      "Epoch 27/30\n",
      "448/448 [==============================] - 29s 65ms/step - loss: 0.5142 - accuracy: 0.8915 - val_loss: 16.2869 - val_accuracy: 0.0397\n",
      "Epoch 28/30\n",
      "448/448 [==============================] - 29s 65ms/step - loss: 0.4711 - accuracy: 0.9038 - val_loss: 16.0773 - val_accuracy: 0.0441\n",
      "Epoch 29/30\n",
      "448/448 [==============================] - 29s 65ms/step - loss: 0.4841 - accuracy: 0.9014 - val_loss: 16.5355 - val_accuracy: 0.0408\n",
      "Epoch 30/30\n",
      "448/448 [==============================] - 29s 64ms/step - loss: 0.4440 - accuracy: 0.9110 - val_loss: 16.2813 - val_accuracy: 0.0374\n"
     ]
    },
    {
     "data": {
      "text/plain": [
       "<keras.callbacks.History at 0x20596d7e7f0>"
      ]
     },
     "execution_count": 14,
     "metadata": {},
     "output_type": "execute_result"
    }
   ],
   "source": [
    "model.compile(loss='categorical_crossentropy', optimizer='adam', metrics=['accuracy'])\n",
    "model.fit(X_train, Y_train, epochs=30, verbose=1, validation_data=(X_val, Y_val))"
   ]
  },
  {
   "cell_type": "code",
   "execution_count": 17,
   "metadata": {},
   "outputs": [
    {
     "name": "stdout",
     "output_type": "stream",
     "text": [
      "1/1 [==============================] - 0s 92ms/step\n",
      "1/1 [==============================] - 0s 38ms/step\n",
      "1/1 [==============================] - 0s 41ms/step\n",
      "This ensures that the model works with the chicken and fillets\n"
     ]
    }
   ],
   "source": [
    "seed_text = \"This ensures that the model works with the\"\n",
    "next_words = 3\n",
    "\n",
    "for _ in range(next_words):\n",
    "    token_list = tokenizer.texts_to_sequences([seed_text])[0]\n",
    "    token_list = pad_sequences([token_list], maxlen=max_sequence_len-1, padding='pre')\n",
    "    predicted = np.argmax(model.predict(token_list), axis=-1)\n",
    "    output_word = \"\"\n",
    "    for word, index in tokenizer.word_index.items():\n",
    "        if index == predicted:\n",
    "            output_word = word\n",
    "            break\n",
    "    seed_text += \" \" + output_word\n",
    "\n",
    "print(seed_text)"
   ]
  },
  {
   "cell_type": "code",
   "execution_count": 19,
   "metadata": {},
   "outputs": [],
   "source": [
    "model.save(\"baseModel.h5\")"
   ]
  },
  {
   "cell_type": "code",
   "execution_count": null,
   "metadata": {},
   "outputs": [],
   "source": []
  }
 ],
 "metadata": {
  "kernelspec": {
   "display_name": "tf",
   "language": "python",
   "name": "python3"
  },
  "language_info": {
   "codemirror_mode": {
    "name": "ipython",
    "version": 3
   },
   "file_extension": ".py",
   "mimetype": "text/x-python",
   "name": "python",
   "nbconvert_exporter": "python",
   "pygments_lexer": "ipython3",
   "version": "3.9.20"
  }
 },
 "nbformat": 4,
 "nbformat_minor": 2
}
