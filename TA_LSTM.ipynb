{
 "cells": [
  {
   "cell_type": "code",
   "execution_count": 1,
   "metadata": {},
   "outputs": [],
   "source": [
    "import random\n",
    "import pickle\n",
    "import numpy as np\n",
    "import pandas as pd\n",
    "import nltk\n",
    "from tensorflow.keras.preprocessing.text import Tokenizer\n",
    "import tensorflow as tf\n",
    "from tensorflow.keras.models import Sequential, load_model\n",
    "from tensorflow.keras.layers import LSTM, Dense, Activation, Dropout\n",
    "from tensorflow.keras.optimizers import RMSprop\n",
    "from sklearn.model_selection import train_test_split\n",
    "from keras.callbacks import EarlyStopping"
   ]
  },
  {
   "cell_type": "code",
   "execution_count": 2,
   "metadata": {},
   "outputs": [
    {
     "name": "stdout",
     "output_type": "stream",
     "text": [
      "1\n"
     ]
    }
   ],
   "source": [
    "print(1)"
   ]
  },
  {
   "cell_type": "code",
   "execution_count": 3,
   "metadata": {},
   "outputs": [
    {
     "name": "stdout",
     "output_type": "stream",
     "text": [
      "Num GPUs Available:  1\n"
     ]
    }
   ],
   "source": [
    "print(\"Num GPUs Available: \", len(tf.config.list_physical_devices('GPU')))"
   ]
  },
  {
   "cell_type": "code",
   "execution_count": 4,
   "metadata": {},
   "outputs": [],
   "source": [
    "with open(\"./data/en_US.blogs.txt\", \"r\", encoding = \"utf8\") as f:\n",
    "    data = f.read()"
   ]
  },
  {
   "cell_type": "code",
   "execution_count": 5,
   "metadata": {},
   "outputs": [],
   "source": [
    "def tokenize(data):\n",
    "    sentences = data.split(\"\\n\")\n",
    "    joined_text = \" \".join([sentence.strip().lower() for sentence in sentences])\n",
    "    tokenizer = RegexpTokenizer(r\"\\w+\")\n",
    "    tokens = tokenizer.tokenize(joined_text.lower())\n",
    "    return tokens"
   ]
  },
  {
   "cell_type": "code",
   "execution_count": 22,
   "metadata": {},
   "outputs": [],
   "source": [
    "sentences = data.split(\"\\n\")\n",
    "joined_text = \" \".join([sentence.strip().lower() for sentence in sentences])\n",
    "partial_text = joined_text[:1000]\n",
    "tokenizer = Tokenizer()\n",
    "tokenizer.fit_on_texts([partial_text])\n",
    "sequence_data = tokenizer.texts_to_sequences([partial_text])[0]"
   ]
  },
  {
   "cell_type": "code",
   "execution_count": 23,
   "metadata": {},
   "outputs": [
    {
     "data": {
      "text/plain": [
       "199"
      ]
     },
     "execution_count": 23,
     "metadata": {},
     "output_type": "execute_result"
    }
   ],
   "source": [
    "len(sequence_data)"
   ]
  },
  {
   "cell_type": "code",
   "execution_count": 25,
   "metadata": {},
   "outputs": [
    {
     "name": "stdout",
     "output_type": "stream",
     "text": [
      "129\n"
     ]
    }
   ],
   "source": [
    "vocab_size = len(tokenizer.word_index) + 1\n",
    "print(vocab_size)"
   ]
  },
  {
   "cell_type": "code",
   "execution_count": 26,
   "metadata": {},
   "outputs": [],
   "source": [
    "#unique_tokens = np.unique(tokens)\n",
    "#unique_tokens_index = {token: idx for idx, token in enumerate(unique_tokens)}"
   ]
  },
  {
   "cell_type": "code",
   "execution_count": 8,
   "metadata": {},
   "outputs": [],
   "source": [
    "n_words = 6\n",
    "input_words = []\n",
    "next_words = []"
   ]
  },
  {
   "cell_type": "code",
   "execution_count": 9,
   "metadata": {},
   "outputs": [],
   "source": [
    "for i in range(len(tokens) - n_words):\n",
    "    input_words.append(tokens[i: i+n_words])\n",
    "    next_words.append(tokens[i+n_words])"
   ]
  },
  {
   "cell_type": "code",
   "execution_count": 25,
   "metadata": {},
   "outputs": [
    {
     "data": {
      "text/plain": [
       "[['the', 'project', 'gutenberg', 'ebook', 'of', 'the'],\n",
       " ['project', 'gutenberg', 'ebook', 'of', 'the', 'blue'],\n",
       " ['gutenberg', 'ebook', 'of', 'the', 'blue', 'castle'],\n",
       " ['ebook', 'of', 'the', 'blue', 'castle', 'by'],\n",
       " ['of', 'the', 'blue', 'castle', 'by', 'lucy'],\n",
       " ['the', 'blue', 'castle', 'by', 'lucy', 'maud'],\n",
       " ['blue', 'castle', 'by', 'lucy', 'maud', 'montgomery'],\n",
       " ['castle', 'by', 'lucy', 'maud', 'montgomery', 'this'],\n",
       " ['by', 'lucy', 'maud', 'montgomery', 'this', 'ebook'],\n",
       " ['lucy', 'maud', 'montgomery', 'this', 'ebook', 'is']]"
      ]
     },
     "execution_count": 25,
     "metadata": {},
     "output_type": "execute_result"
    }
   ],
   "source": [
    "input_words[:10]\n"
   ]
  },
  {
   "cell_type": "code",
   "execution_count": 26,
   "metadata": {},
   "outputs": [
    {
     "data": {
      "text/plain": [
       "['blue',\n",
       " 'castle',\n",
       " 'by',\n",
       " 'lucy',\n",
       " 'maud',\n",
       " 'montgomery',\n",
       " 'this',\n",
       " 'ebook',\n",
       " 'is',\n",
       " 'for']"
      ]
     },
     "execution_count": 26,
     "metadata": {},
     "output_type": "execute_result"
    }
   ],
   "source": [
    "next_words[:10]"
   ]
  },
  {
   "cell_type": "code",
   "execution_count": 10,
   "metadata": {},
   "outputs": [
    {
     "data": {
      "text/plain": [
       "7386"
      ]
     },
     "execution_count": 10,
     "metadata": {},
     "output_type": "execute_result"
    }
   ],
   "source": [
    "len(unique_tokens)"
   ]
  },
  {
   "cell_type": "code",
   "execution_count": 11,
   "metadata": {},
   "outputs": [],
   "source": [
    "X = np.zeros((len(input_words), n_words, len(unique_tokens)), dtype=bool) # n_words bag of words with one position set to 1 (ten times of this)\n",
    "Y = np.zeros((len(next_words), len(unique_tokens)), dtype=bool) # only one set to 1"
   ]
  },
  {
   "cell_type": "code",
   "execution_count": 12,
   "metadata": {},
   "outputs": [],
   "source": [
    "for i, words in enumerate(input_words):\n",
    "    for j,word in enumerate(words):\n",
    "        X[i,j, unique_tokens_index[word]] = 1\n",
    "    Y[i, unique_tokens_index[next_words[i]]] = 1"
   ]
  },
  {
   "cell_type": "code",
   "execution_count": 13,
   "metadata": {},
   "outputs": [],
   "source": [
    "X_train, X_temp, Y_train, Y_temp = train_test_split(X,Y, test_size=0.2, random_state=42)\n",
    "X_val, X_test, Y_val, Y_test = train_test_split(X_temp,Y_temp, test_size=0.5, random_state=42)"
   ]
  },
  {
   "cell_type": "code",
   "execution_count": 14,
   "metadata": {},
   "outputs": [],
   "source": [
    "model = Sequential()\n",
    "model.add(LSTM(128, input_shape = (n_words, len(unique_tokens)), return_sequences=True))\n",
    "model.add(Dropout(0.2))  # Add dropout with a rate of 0.2\n",
    "model.add(LSTM(128))\n",
    "model.add(Dropout(0.2))  # Add dropout with a rate of 0.2\n",
    "model.add(Dense(len(unique_tokens)))\n",
    "model.add(Activation(\"softmax\"))\n",
    "#model = load_model(\"mymodel.h5\")"
   ]
  },
  {
   "cell_type": "code",
   "execution_count": 15,
   "metadata": {},
   "outputs": [
    {
     "name": "stdout",
     "output_type": "stream",
     "text": [
      "Model: \"sequential\"\n",
      "_________________________________________________________________\n",
      " Layer (type)                Output Shape              Param #   \n",
      "=================================================================\n",
      " lstm (LSTM)                 (None, 6, 128)            3847680   \n",
      "                                                                 \n",
      " lstm_1 (LSTM)               (None, 128)               131584    \n",
      "                                                                 \n",
      " dense (Dense)               (None, 7386)              952794    \n",
      "                                                                 \n",
      " activation (Activation)     (None, 7386)              0         \n",
      "                                                                 \n",
      "=================================================================\n",
      "Total params: 4,932,058\n",
      "Trainable params: 4,932,058\n",
      "Non-trainable params: 0\n",
      "_________________________________________________________________\n"
     ]
    }
   ],
   "source": [
    "model.summary()"
   ]
  },
  {
   "cell_type": "code",
   "execution_count": 16,
   "metadata": {},
   "outputs": [
    {
     "name": "stdout",
     "output_type": "stream",
     "text": [
      "Epoch 1/50\n",
      "1868/1868 [==============================] - 32s 14ms/step - loss: 7.7091 - accuracy: 0.0305 - val_loss: 8.2435 - val_accuracy: 0.0352\n",
      "Epoch 2/50\n",
      "1868/1868 [==============================] - 25s 13ms/step - loss: 7.9367 - accuracy: 0.0701 - val_loss: 8.2137 - val_accuracy: 0.0829\n",
      "Epoch 3/50\n",
      "1868/1868 [==============================] - 25s 13ms/step - loss: 7.8970 - accuracy: 0.0855 - val_loss: 8.5146 - val_accuracy: 0.0838\n",
      "Epoch 4/50\n",
      "1868/1868 [==============================] - 23s 12ms/step - loss: 7.6854 - accuracy: 0.1035 - val_loss: 8.5890 - val_accuracy: 0.0796\n",
      "Epoch 5/50\n",
      "1868/1868 [==============================] - 17s 9ms/step - loss: 7.3521 - accuracy: 0.1275 - val_loss: 8.8615 - val_accuracy: 0.0897\n",
      "Epoch 6/50\n",
      "1868/1868 [==============================] - 17s 9ms/step - loss: 6.9422 - accuracy: 0.1552 - val_loss: 9.6086 - val_accuracy: 0.0962\n",
      "Epoch 7/50\n",
      "1868/1868 [==============================] - 17s 9ms/step - loss: 6.5698 - accuracy: 0.1862 - val_loss: 10.0982 - val_accuracy: 0.0895\n",
      "Epoch 8/50\n",
      "1868/1868 [==============================] - 17s 9ms/step - loss: 6.1708 - accuracy: 0.2190 - val_loss: 11.0154 - val_accuracy: 0.0762\n",
      "Epoch 9/50\n",
      "1868/1868 [==============================] - 17s 9ms/step - loss: 5.8250 - accuracy: 0.2471 - val_loss: 11.2479 - val_accuracy: 0.0792\n",
      "Epoch 10/50\n",
      "1868/1868 [==============================] - 17s 9ms/step - loss: 5.5574 - accuracy: 0.2743 - val_loss: 12.1896 - val_accuracy: 0.0762\n",
      "Epoch 11/50\n",
      "1868/1868 [==============================] - 17s 9ms/step - loss: 5.3035 - accuracy: 0.2961 - val_loss: 12.5331 - val_accuracy: 0.0760\n",
      "Epoch 12/50\n",
      "1868/1868 [==============================] - 17s 9ms/step - loss: 5.0655 - accuracy: 0.3180 - val_loss: 13.4772 - val_accuracy: 0.0857\n",
      "Epoch 13/50\n",
      "1868/1868 [==============================] - 17s 9ms/step - loss: 4.9527 - accuracy: 0.3343 - val_loss: 13.5753 - val_accuracy: 0.0862\n",
      "Epoch 14/50\n",
      "1868/1868 [==============================] - 17s 9ms/step - loss: 4.7704 - accuracy: 0.3519 - val_loss: 14.3841 - val_accuracy: 0.0724\n",
      "Epoch 15/50\n",
      "1868/1868 [==============================] - 17s 9ms/step - loss: 4.6568 - accuracy: 0.3635 - val_loss: 14.8508 - val_accuracy: 0.0727\n",
      "Epoch 16/50\n",
      "1868/1868 [==============================] - 17s 9ms/step - loss: 4.5408 - accuracy: 0.3755 - val_loss: 14.8199 - val_accuracy: 0.0791\n",
      "Epoch 17/50\n",
      "1868/1868 [==============================] - 17s 9ms/step - loss: 4.4534 - accuracy: 0.3848 - val_loss: 15.2857 - val_accuracy: 0.0721\n",
      "Epoch 18/50\n",
      "1868/1868 [==============================] - 17s 9ms/step - loss: 4.3736 - accuracy: 0.3962 - val_loss: 15.8178 - val_accuracy: 0.0738\n",
      "Epoch 19/50\n",
      "1868/1868 [==============================] - 17s 9ms/step - loss: 4.2928 - accuracy: 0.4055 - val_loss: 16.2092 - val_accuracy: 0.0794\n",
      "Epoch 20/50\n",
      "1868/1868 [==============================] - 17s 9ms/step - loss: 4.2118 - accuracy: 0.4152 - val_loss: 16.4236 - val_accuracy: 0.0786\n",
      "Epoch 21/50\n",
      "1868/1868 [==============================] - 17s 9ms/step - loss: 4.1648 - accuracy: 0.4223 - val_loss: 16.8973 - val_accuracy: 0.0683\n",
      "Epoch 22/50\n",
      "1868/1868 [==============================] - 17s 9ms/step - loss: 4.1182 - accuracy: 0.4279 - val_loss: 16.5057 - val_accuracy: 0.0826\n",
      "Epoch 23/50\n",
      "1868/1868 [==============================] - 17s 9ms/step - loss: 4.0831 - accuracy: 0.4333 - val_loss: 17.6356 - val_accuracy: 0.0736\n",
      "Epoch 24/50\n",
      "1868/1868 [==============================] - 17s 9ms/step - loss: 4.1205 - accuracy: 0.4352 - val_loss: 17.7169 - val_accuracy: 0.0728\n",
      "Epoch 25/50\n",
      "1868/1868 [==============================] - 17s 9ms/step - loss: 4.1487 - accuracy: 0.4374 - val_loss: 17.9177 - val_accuracy: 0.0756\n",
      "Epoch 26/50\n",
      "1868/1868 [==============================] - 17s 9ms/step - loss: 4.1209 - accuracy: 0.4438 - val_loss: 18.3850 - val_accuracy: 0.0697\n",
      "Epoch 27/50\n",
      "1868/1868 [==============================] - 17s 9ms/step - loss: 4.1256 - accuracy: 0.4439 - val_loss: 18.7502 - val_accuracy: 0.0669\n",
      "Epoch 28/50\n",
      "1868/1868 [==============================] - 17s 9ms/step - loss: 4.1044 - accuracy: 0.4443 - val_loss: 19.5070 - val_accuracy: 0.0740\n",
      "Epoch 29/50\n",
      "1868/1868 [==============================] - 17s 9ms/step - loss: 4.1080 - accuracy: 0.4490 - val_loss: 19.8323 - val_accuracy: 0.0687\n",
      "Epoch 30/50\n",
      "1868/1868 [==============================] - 17s 9ms/step - loss: 4.1259 - accuracy: 0.4482 - val_loss: 19.7013 - val_accuracy: 0.0699\n",
      "Epoch 31/50\n",
      "1868/1868 [==============================] - 17s 9ms/step - loss: 4.1542 - accuracy: 0.4520 - val_loss: 20.0312 - val_accuracy: 0.0630\n",
      "Epoch 32/50\n",
      "1868/1868 [==============================] - 17s 9ms/step - loss: 4.1571 - accuracy: 0.4519 - val_loss: 20.1327 - val_accuracy: 0.0717\n",
      "Epoch 33/50\n",
      "1868/1868 [==============================] - 17s 9ms/step - loss: 4.1531 - accuracy: 0.4573 - val_loss: 20.1048 - val_accuracy: 0.0684\n",
      "Epoch 34/50\n",
      "1868/1868 [==============================] - 17s 9ms/step - loss: 4.2013 - accuracy: 0.4532 - val_loss: 20.2601 - val_accuracy: 0.0679\n",
      "Epoch 35/50\n",
      "1868/1868 [==============================] - 17s 9ms/step - loss: 4.2672 - accuracy: 0.4537 - val_loss: 20.4518 - val_accuracy: 0.0711\n",
      "Epoch 36/50\n",
      "1868/1868 [==============================] - 17s 9ms/step - loss: 4.2271 - accuracy: 0.4568 - val_loss: 21.4620 - val_accuracy: 0.0707\n",
      "Epoch 37/50\n",
      "1868/1868 [==============================] - 17s 9ms/step - loss: 4.2210 - accuracy: 0.4583 - val_loss: 21.1306 - val_accuracy: 0.0760\n",
      "Epoch 38/50\n",
      "1868/1868 [==============================] - 17s 9ms/step - loss: 4.2273 - accuracy: 0.4621 - val_loss: 21.4235 - val_accuracy: 0.0655\n",
      "Epoch 39/50\n",
      "1868/1868 [==============================] - 17s 9ms/step - loss: 4.1823 - accuracy: 0.4614 - val_loss: 21.8677 - val_accuracy: 0.0656\n",
      "Epoch 40/50\n",
      "1868/1868 [==============================] - 17s 9ms/step - loss: 5.0191 - accuracy: 0.4351 - val_loss: 21.5239 - val_accuracy: 0.0633\n",
      "Epoch 41/50\n",
      "1868/1868 [==============================] - 17s 9ms/step - loss: 5.0739 - accuracy: 0.4237 - val_loss: 21.6232 - val_accuracy: 0.0632\n",
      "Epoch 42/50\n",
      "1868/1868 [==============================] - 17s 9ms/step - loss: 5.0046 - accuracy: 0.4255 - val_loss: 21.4946 - val_accuracy: 0.0687\n",
      "Epoch 43/50\n",
      "1868/1868 [==============================] - 17s 9ms/step - loss: 5.4611 - accuracy: 0.4087 - val_loss: 21.5644 - val_accuracy: 0.0559\n",
      "Epoch 44/50\n",
      "1868/1868 [==============================] - 17s 9ms/step - loss: 7.0926 - accuracy: 0.3376 - val_loss: 22.0047 - val_accuracy: 0.0614\n",
      "Epoch 45/50\n",
      "1868/1868 [==============================] - 17s 9ms/step - loss: 5.7405 - accuracy: 0.3805 - val_loss: 22.8969 - val_accuracy: 0.0642\n",
      "Epoch 46/50\n",
      "1868/1868 [==============================] - 17s 9ms/step - loss: 7.0852 - accuracy: 0.3357 - val_loss: 22.2515 - val_accuracy: 0.0610\n",
      "Epoch 47/50\n",
      "1868/1868 [==============================] - 17s 9ms/step - loss: 6.8390 - accuracy: 0.3389 - val_loss: 22.1738 - val_accuracy: 0.0644\n",
      "Epoch 48/50\n",
      "1868/1868 [==============================] - 17s 9ms/step - loss: 6.1504 - accuracy: 0.3693 - val_loss: 23.0363 - val_accuracy: 0.0669\n",
      "Epoch 49/50\n",
      "1868/1868 [==============================] - 17s 9ms/step - loss: 5.6580 - accuracy: 0.3928 - val_loss: 23.2648 - val_accuracy: 0.0684\n",
      "Epoch 50/50\n",
      "1868/1868 [==============================] - 17s 9ms/step - loss: 5.9716 - accuracy: 0.3817 - val_loss: 23.4266 - val_accuracy: 0.0629\n"
     ]
    }
   ],
   "source": [
    "model.compile(loss=\"categorical_crossentropy\", optimizer=RMSprop(learning_rate=0.01), metrics=[\"accuracy\"])\n",
    "#early_stopping = EarlyStopping(monitor='val_accuracy', patience=3)\n",
    "history = model.fit(X_train,Y_train, batch_size=32, epochs=50, shuffle=True, validation_data=(X_val, Y_val))"
   ]
  },
  {
   "cell_type": "code",
   "execution_count": 17,
   "metadata": {},
   "outputs": [
    {
     "name": "stdout",
     "output_type": "stream",
     "text": [
      "234/234 [==============================] - 1s 5ms/step - loss: 23.6468 - accuracy: 0.0597\n",
      "Test Loss: 23.646760940551758, Test Accuracy: 0.05968950688838959\n"
     ]
    }
   ],
   "source": [
    "test_loss, test_accuracy = model.evaluate(X_test, Y_test)\n",
    "print(f\"Test Loss: {test_loss}, Test Accuracy: {test_accuracy}\")\n"
   ]
  },
  {
   "cell_type": "code",
   "execution_count": 18,
   "metadata": {},
   "outputs": [],
   "source": [
    "model.save(\"myModel.h5\")"
   ]
  },
  {
   "cell_type": "code",
   "execution_count": 19,
   "metadata": {},
   "outputs": [],
   "source": [
    "model = load_model(\"mymodel.h5\")"
   ]
  },
  {
   "cell_type": "code",
   "execution_count": 20,
   "metadata": {},
   "outputs": [],
   "source": [
    "def predict_next_word(input_text, n_best):\n",
    "    input_text = input_text.lower()\n",
    "    X = np.zeros((1,n_words,len(unique_tokens)))\n",
    "    num_of_words = 0\n",
    "    input_words = input_text.split()\n",
    "    for i in range(len(input_words)-1, -1, -1):\n",
    "        if num_of_words >= n_words:\n",
    "            break\n",
    "        if input_words[i] in unique_tokens_index.keys():\n",
    "            X[0,n_words - num_of_words - 1,unique_tokens_index[input_words[i]]] = 1\n",
    "            print(f\"{input_words[i]}:{n_words - num_of_words - 1}\")\n",
    "            num_of_words += 1\n",
    "        \n",
    "    predictions = model.predict(X)[0]\n",
    "    top_n_idx = np.argsort(predictions)[-n_best:][::-1]\n",
    "    predicted_words = [list(unique_tokens_index.keys())[idx] for idx in top_n_idx]\n",
    "    return predicted_words"
   ]
  },
  {
   "cell_type": "code",
   "execution_count": 21,
   "metadata": {},
   "outputs": [
    {
     "name": "stdout",
     "output_type": "stream",
     "text": [
      "the:5\n",
      "with:4\n",
      "works:3\n",
      "the:2\n",
      "that:1\n",
      "this:0\n",
      "1/1 [==============================] - 0s 427ms/step\n"
     ]
    }
   ],
   "source": [
    "possible = predict_next_word(\"This ensures that the model works with the\",5)"
   ]
  },
  {
   "cell_type": "code",
   "execution_count": 22,
   "metadata": {},
   "outputs": [
    {
     "name": "stdout",
     "output_type": "stream",
     "text": [
      "['come', 's', 'mother', 'been', 'first']\n"
     ]
    }
   ],
   "source": [
    "print(possible)"
   ]
  },
  {
   "cell_type": "code",
   "execution_count": 23,
   "metadata": {},
   "outputs": [
    {
     "data": {
      "image/png": "[encoded data removed]",
      "text/plain": [
       "<Figure size 640x480 with 1 Axes>"
      ]
     },
     "metadata": {},
     "output_type": "display_data"
    }
   ],
   "source": [
    "import matplotlib.pyplot as plt\n",
    "\n",
    "# Plot training & validation loss values\n",
    "plt.plot(history.history['loss'], label='Train Loss')\n",
    "plt.plot(history.history['val_loss'], label='Val Loss')\n",
    "plt.title('Model Loss')\n",
    "plt.ylabel('Loss')\n",
    "plt.xlabel('Epoch')\n",
    "plt.legend(loc='upper right')\n",
    "plt.show()\n"
   ]
  },
  {
   "cell_type": "code",
   "execution_count": 24,
   "metadata": {},
   "outputs": [
    {
     "data": {
      "image/png": "[encoded data removed]",
      "text/plain": [
       "<Figure size 640x480 with 1 Axes>"
      ]
     },
     "metadata": {},
     "output_type": "display_data"
    }
   ],
   "source": [
    "# Plot training & validation accuracy values\n",
    "plt.plot(history.history['accuracy'], label='Train Accuracy')\n",
    "plt.plot(history.history['val_accuracy'], label='Val Accuracy')\n",
    "plt.title('Model Accuracy')\n",
    "plt.ylabel('Accuracy')\n",
    "plt.xlabel('Epoch')\n",
    "plt.legend(loc='upper left')\n",
    "plt.show()\n"
   ]
  }
 ],
 "metadata": {
  "kernelspec": {
   "display_name": "tf",
   "language": "python",
   "name": "python3"
  },
  "language_info": {
   "codemirror_mode": {
    "name": "ipython",
    "version": 3
   },
   "file_extension": ".py",
   "mimetype": "text/x-python",
   "name": "python",
   "nbconvert_exporter": "python",
   "pygments_lexer": "ipython3",
   "version": "3.9.20"
  }
 },
 "nbformat": 4,
 "nbformat_minor": 2
}
